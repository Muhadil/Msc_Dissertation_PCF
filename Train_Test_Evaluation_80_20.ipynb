{
 "cells": [
  {
   "cell_type": "code",
   "execution_count": null,
   "metadata": {},
   "outputs": [],
   "source": [
    "import pandas as pd\n",
    "import numpy as np\n",
    "import matplotlib.pyplot as plt\n",
    "%matplotlib inline\n",
    "from comtrade import Comtrade\n",
    "import seaborn as sns"
   ]
  },
  {
   "cell_type": "markdown",
   "metadata": {},
   "source": [
    "##### Functions to be used"
   ]
  },
  {
   "cell_type": "code",
   "execution_count": null,
   "metadata": {},
   "outputs": [],
   "source": [
    "def data_frames_creation(paths):\n",
    "    temp=[]\n",
    "    for i in range (0, len(paths)):\n",
    "        rec = Comtrade()\n",
    "        rec.load(paths[i][0],paths[i][1])\n",
    "        samples_list=[]\n",
    "        for j in range (0, len(rec.analog)):\n",
    "            samples_list.append(rec.analog[j])\n",
    "        abc=pd.DataFrame(samples_list)\n",
    "        abc=abc.transpose()\n",
    "        abc.columns=rec.analog_channel_ids\n",
    "        time=pd.Series(data=rec.time,name='Time')\n",
    "        abc=pd.concat([time,abc],axis=1)\n",
    "        temp.append(abc)\n",
    "        samples_list=[]\n",
    "    return temp"
   ]
  },
  {
   "cell_type": "code",
   "execution_count": null,
   "metadata": {},
   "outputs": [],
   "source": [
    "import os\n",
    "def getPath(file_id, file_type):\n",
    "    response = ''\n",
    "    directory = \"C:\\\\Users\\\\Mahnoor Saeed\\\\Dissertation_Notebook\\\\cable_failure_dataset\\\\DAT_Files\"\n",
    "    if file_type == 2:\n",
    "        directory = \"C:\\\\Users\\\\Mahnoor Saeed\\\\Dissertation_Notebook\\\\cable_failure_dataset\\\\CFG_FILES\"\n",
    "    for path in os.listdir(directory):\n",
    "        full_path = os.path.join(directory, path)\n",
    "        if os.path.isfile(full_path):\n",
    "            if str(file_id) in full_path:\n",
    "                response = full_path\n",
    "    return response"
   ]
  },
  {
   "cell_type": "code",
   "execution_count": null,
   "metadata": {},
   "outputs": [],
   "source": [
    "def single_point_visula(cols,data):\n",
    "    plt.figure(figsize=(11,2))\n",
    "    plt.title('Currents Amplitude Vs Time of '+cols)\n",
    "    plt.plot(data['Time'],data[cols],color='#0FE279')\n",
    "    plt.xlabel('Time', fontsize=8)\n",
    "    plt.ylabel('Current (amp)', fontsize=7)"
   ]
  },
  {
   "cell_type": "code",
   "execution_count": null,
   "metadata": {},
   "outputs": [],
   "source": [
    "def box_plots(data,b):\n",
    "    plt.figure(figsize=(11,3))\n",
    "    plt.title('Distribution of Data Point '+ str (b))\n",
    "    sns.boxplot(data=data,color='#B0FC21')\n",
    "    plt.xlabel('Phases', fontsize=9)\n",
    "    plt.ylabel('Current (amp)', fontsize=10)"
   ]
  },
  {
   "cell_type": "code",
   "execution_count": null,
   "metadata": {},
   "outputs": [],
   "source": [
    "def pred_fal_good_Visualization(dataframe, wrong_phases,columns):\n",
    "    for f in range (0,len(dataframe)):\n",
    "        if wrong_phases[f]=='A':\n",
    "            plt.figure(figsize=(15,3))\n",
    "            plt.title('Failure Sample '+str(f)+' Amplitude Vs Time of '+columns[0])\n",
    "            plt.plot(dataframe[f]['Time'],dataframe[f]['MPI3p1:I A'],color='#E9967A')\n",
    "        if wrong_phases[f]=='B':\n",
    "            plt.figure(figsize=(15,3))\n",
    "            plt.title('Failure Sample '+str(f)+' Amplitude Vs Time of '+columns[1])\n",
    "            plt.plot(dataframe[f]['Time'],dataframe[f]['MPI3p1:I B'],color='#108A0D')\n",
    "        if wrong_phases[f]=='C':\n",
    "            plt.figure(figsize=(15,3))\n",
    "            plt.title('Failure Sample '+str(f)+' Amplitude Vs Time of '+columns[2])\n",
    "            plt.plot(dataframe[f]['Time'],dataframe[f]['MPI3p1:I C'],color='#0282B9')\n",
    "        if wrong_phases[f]=='N':\n",
    "            plt.figure(figsize=(15,3))\n",
    "            plt.title('Failure Sample '+str(f)+' Amplitude Vs Time of '+columns[3])\n",
    "            plt.plot(dataframe[f]['Time'],dataframe[f]['MPI3p1:IN'],color='#C794F2')"
   ]
  },
  {
   "cell_type": "markdown",
   "metadata": {},
   "source": [
    "###### `********************************************************************************************************************`"
   ]
  },
  {
   "cell_type": "markdown",
   "metadata": {},
   "source": [
    "##### Data Loading"
   ]
  },
  {
   "cell_type": "code",
   "execution_count": null,
   "metadata": {},
   "outputs": [],
   "source": [
    "ten_PCA=pd.read_csv('Ten_com_clustering.csv')"
   ]
  },
  {
   "cell_type": "code",
   "execution_count": null,
   "metadata": {},
   "outputs": [],
   "source": [
    "ten_PCA"
   ]
  },
  {
   "cell_type": "code",
   "execution_count": null,
   "metadata": {},
   "outputs": [],
   "source": [
    "ten_PCA.isna().sum()"
   ]
  },
  {
   "cell_type": "markdown",
   "metadata": {},
   "source": [
    "##### Shuffling and Splits"
   ]
  },
  {
   "cell_type": "code",
   "execution_count": null,
   "metadata": {},
   "outputs": [],
   "source": [
    "np.random.seed(42)\n",
    "ten_PCA_shuffle=ten_PCA.sample(frac=1)"
   ]
  },
  {
   "cell_type": "code",
   "execution_count": null,
   "metadata": {},
   "outputs": [],
   "source": [
    "ten_PCA_shuffle"
   ]
  },
  {
   "cell_type": "code",
   "execution_count": null,
   "metadata": {},
   "outputs": [],
   "source": [
    "engin_df=pd.read_csv('eng_features.csv')\n",
    "engin_df.head()"
   ]
  },
  {
   "cell_type": "code",
   "execution_count": null,
   "metadata": {},
   "outputs": [],
   "source": [
    "np.random.seed(42)\n",
    "engin_df_shuffle=engin_df.sample(frac=1)\n",
    "engin_df_shuffle"
   ]
  },
  {
   "cell_type": "code",
   "execution_count": null,
   "metadata": {},
   "outputs": [],
   "source": [
    "train_set_len=round(len(ten_PCA_shuffle)*0.8)"
   ]
  },
  {
   "cell_type": "code",
   "execution_count": null,
   "metadata": {},
   "outputs": [],
   "source": [
    "test_set_len=round(len(ten_PCA_shuffle)*0.2)"
   ]
  },
  {
   "cell_type": "code",
   "execution_count": null,
   "metadata": {},
   "outputs": [],
   "source": [
    "print(train_set_len)\n",
    "print(test_set_len)"
   ]
  },
  {
   "cell_type": "code",
   "execution_count": null,
   "metadata": {},
   "outputs": [],
   "source": [
    "train_set=ten_PCA_shuffle.iloc[0:1098,:]"
   ]
  },
  {
   "cell_type": "code",
   "execution_count": null,
   "metadata": {},
   "outputs": [],
   "source": [
    "test_set=ten_PCA_shuffle.iloc[1098:,:]"
   ]
  },
  {
   "cell_type": "code",
   "execution_count": null,
   "metadata": {},
   "outputs": [],
   "source": [
    "test_set"
   ]
  },
  {
   "cell_type": "code",
   "execution_count": null,
   "metadata": {},
   "outputs": [],
   "source": [
    "train_set_engin_df=engin_df_shuffle.iloc[0:1098,:]"
   ]
  },
  {
   "cell_type": "code",
   "execution_count": null,
   "metadata": {},
   "outputs": [],
   "source": [
    "test_set_engin_df=engin_df_shuffle.iloc[1098:,:]"
   ]
  },
  {
   "cell_type": "code",
   "execution_count": null,
   "metadata": {},
   "outputs": [],
   "source": [
    "train_set_engin_df"
   ]
  },
  {
   "cell_type": "code",
   "execution_count": null,
   "metadata": {},
   "outputs": [],
   "source": [
    "test_set_engin_df"
   ]
  },
  {
   "cell_type": "markdown",
   "metadata": {},
   "source": [
    "#### GMM-Diagonal"
   ]
  },
  {
   "cell_type": "code",
   "execution_count": null,
   "metadata": {},
   "outputs": [],
   "source": [
    "train_set"
   ]
  },
  {
   "cell_type": "code",
   "execution_count": null,
   "metadata": {},
   "outputs": [],
   "source": [
    "random_states=[1,23,5,66,9]"
   ]
  },
  {
   "cell_type": "code",
   "execution_count": null,
   "metadata": {},
   "outputs": [],
   "source": [
    "for i in random_states:\n",
    "    from sklearn.mixture import GaussianMixture\n",
    "    gmm_diag_train = GaussianMixture(n_components=2,covariance_type='diag',random_states=i).fit(train_set)"
   ]
  },
  {
   "cell_type": "code",
   "execution_count": null,
   "metadata": {},
   "outputs": [],
   "source": [
    "gmm_diag_train.get_params()"
   ]
  },
  {
   "cell_type": "code",
   "execution_count": null,
   "metadata": {},
   "outputs": [],
   "source": [
    "np.random.seed(40)\n",
    "gmm_dia_train_labels=gmm_diag_train.predict(train_set)"
   ]
  },
  {
   "cell_type": "code",
   "execution_count": null,
   "metadata": {},
   "outputs": [],
   "source": [
    "gmm_dia_train_labels"
   ]
  },
  {
   "cell_type": "code",
   "execution_count": null,
   "metadata": {},
   "outputs": [],
   "source": [
    "len(gmm_dia_train_labels)"
   ]
  },
  {
   "cell_type": "code",
   "execution_count": null,
   "metadata": {},
   "outputs": [],
   "source": [
    "gmm_train_lab_df=pd.DataFrame(gmm_dia_train_labels,columns=['Train_labels'])"
   ]
  },
  {
   "cell_type": "code",
   "execution_count": null,
   "metadata": {},
   "outputs": [],
   "source": [
    "gmm_train_lab_df"
   ]
  },
  {
   "cell_type": "code",
   "execution_count": null,
   "metadata": {},
   "outputs": [],
   "source": [
    "train_set_reset=train_set.reset_index(drop=True)\n",
    "train_set_reset"
   ]
  },
  {
   "cell_type": "code",
   "execution_count": null,
   "metadata": {},
   "outputs": [],
   "source": [
    "from sklearn.metrics import silhouette_score\n",
    "print('Silhoutte score of GMM clustering is ' + str(silhouette_score(train_set, gmm_dia_train_labels)))"
   ]
  },
  {
   "cell_type": "code",
   "execution_count": null,
   "metadata": {},
   "outputs": [],
   "source": [
    "gmm_dia_train_df = pd.concat([train_set_reset, gmm_train_lab_df], axis=1)"
   ]
  },
  {
   "cell_type": "code",
   "execution_count": null,
   "metadata": {},
   "outputs": [],
   "source": [
    "gmm_dia_train_df"
   ]
  },
  {
   "cell_type": "code",
   "execution_count": null,
   "metadata": {},
   "outputs": [],
   "source": [
    "import warnings\n",
    "warnings.filterwarnings('ignore')"
   ]
  },
  {
   "cell_type": "code",
   "execution_count": null,
   "metadata": {},
   "outputs": [],
   "source": [
    "gmm_dia_train_df['Train_labels'].value_counts()"
   ]
  },
  {
   "cell_type": "code",
   "execution_count": null,
   "metadata": {},
   "outputs": [],
   "source": [
    "import seaborn as sns\n",
    "plt.figure(figsize = (17,7))\n",
    "sns.scatterplot(gmm_dia_train_df.iloc[:,0],gmm_dia_train_df.iloc[:,1], hue=gmm_dia_train_df['Train_labels'], palette='magma', s=70, alpha=0.8).set_title('Distribution of cluster Based on Gaussian Mixture Model (Train set)',fontsize=13)\n",
    "plt.legend()\n",
    "#plt.savefig('Cluster_pCA_1_and_3')\n",
    "plt.show()"
   ]
  },
  {
   "cell_type": "markdown",
   "metadata": {},
   "source": [
    "###### `********************************************************************************************************************`"
   ]
  },
  {
   "cell_type": "markdown",
   "metadata": {},
   "source": [
    "## Predicted Failure Verification by GMM Diagonal (Train Set)"
   ]
  },
  {
   "cell_type": "code",
   "execution_count": null,
   "metadata": {},
   "outputs": [],
   "source": [
    "gmm_dia_train_df"
   ]
  },
  {
   "cell_type": "code",
   "execution_count": null,
   "metadata": {},
   "outputs": [],
   "source": [
    "pred_fal_gmm_dia_train=gmm_dia_train_df[gmm_dia_train_df['Train_labels']==1]"
   ]
  },
  {
   "cell_type": "code",
   "execution_count": null,
   "metadata": {},
   "outputs": [],
   "source": [
    "import seaborn as sns\n",
    "plt.figure(figsize = (17,7))\n",
    "sns.scatterplot(pred_fal_gmm_dia_train.iloc[:,0],pred_fal_gmm_dia_train.iloc[:,1],color='#08BF4B' , s=70, alpha=0.8).set_title('Only Predicted Failure cluster by GMM on Train set',fontsize=13)\n",
    "plt.legend(labels=['Predicted Failure Cluster Only (Train Set)'])\n",
    "#plt.savefig('Cluster_pCA_1_and_3')\n",
    "plt.show()"
   ]
  },
  {
   "cell_type": "code",
   "execution_count": null,
   "metadata": {},
   "outputs": [],
   "source": [
    "pred_fal_gmm_dia_train"
   ]
  },
  {
   "cell_type": "code",
   "execution_count": null,
   "metadata": {},
   "outputs": [],
   "source": [
    "predicted_failure_gmm_index_train=pred_fal_gmm_dia_train.index"
   ]
  },
  {
   "cell_type": "code",
   "execution_count": null,
   "metadata": {},
   "outputs": [],
   "source": [
    "predicted_failure_gmm_index_train"
   ]
  },
  {
   "cell_type": "code",
   "execution_count": null,
   "metadata": {},
   "outputs": [],
   "source": [
    "train_set_engin_df_reset=train_set_engin_df.reset_index(drop=True)\n",
    "train_set_engin_df_reset"
   ]
  },
  {
   "cell_type": "code",
   "execution_count": null,
   "metadata": {},
   "outputs": [],
   "source": [
    "Faulty_pred_gmm_ids_train=[]\n",
    "for i in predicted_failure_gmm_index_train:\n",
    "    Faulty_pred_gmm_ids_train.append(train_set_engin_df_reset.loc[i])\n",
    "Faulty_pred_gmm_ids_train=pd.DataFrame(Faulty_pred_gmm_ids_train)"
   ]
  },
  {
   "cell_type": "code",
   "execution_count": null,
   "metadata": {},
   "outputs": [],
   "source": [
    "Faulty_pred_gmm_ids_train"
   ]
  },
  {
   "cell_type": "code",
   "execution_count": null,
   "metadata": {},
   "outputs": [],
   "source": [
    "len(Faulty_pred_gmm_ids_train)"
   ]
  },
  {
   "cell_type": "code",
   "execution_count": null,
   "metadata": {},
   "outputs": [],
   "source": [
    "gmm_dia_failure_paths_train=[]\n",
    "for index, row in Faulty_pred_gmm_ids_train.iterrows():\n",
    "    dAT_path = getPath(row['Fault ID'], 1)\n",
    "    CFG_Path = getPath(row['Fault ID'], 2)\n",
    "    gmm_dia_failure_paths_train.append([CFG_Path, dAT_path])"
   ]
  },
  {
   "cell_type": "code",
   "execution_count": null,
   "metadata": {},
   "outputs": [],
   "source": [
    "gmm_dia_failure_paths_train"
   ]
  },
  {
   "cell_type": "code",
   "execution_count": null,
   "metadata": {},
   "outputs": [],
   "source": [
    "gmm_dia_faulty_phases_train=[]\n",
    "for index, row in Faulty_pred_gmm_ids_train.iterrows():\n",
    "    gmm_dia_faulty_phases_train.append(row['Phase'])"
   ]
  },
  {
   "cell_type": "code",
   "execution_count": null,
   "metadata": {},
   "outputs": [],
   "source": [
    "print(len(gmm_dia_failure_paths_train))\n",
    "print(len(gmm_dia_faulty_phases_train))"
   ]
  },
  {
   "cell_type": "code",
   "execution_count": null,
   "metadata": {},
   "outputs": [],
   "source": [
    "gmm_dia_fal_traindata=data_frames_creation(gmm_dia_failure_paths_train)"
   ]
  },
  {
   "cell_type": "code",
   "execution_count": null,
   "metadata": {},
   "outputs": [],
   "source": [
    "col_names=[ 'MPI3p1:I A', 'MPI3p1:I B', 'MPI3p1:I C', 'MPI3p1:IN']"
   ]
  },
  {
   "cell_type": "code",
   "execution_count": null,
   "metadata": {},
   "outputs": [],
   "source": [
    "pred_fal_good_Visualization(gmm_dia_fal_traindata,gmm_dia_faulty_phases_train,col_names)"
   ]
  },
  {
   "cell_type": "code",
   "execution_count": null,
   "metadata": {},
   "outputs": [],
   "source": [
    "false_failure_trainset=[3,6,145,174,196,212,280]"
   ]
  },
  {
   "cell_type": "code",
   "execution_count": null,
   "metadata": {},
   "outputs": [],
   "source": [
    "len(false_failure_trainset)"
   ]
  },
  {
   "cell_type": "code",
   "execution_count": null,
   "metadata": {},
   "outputs": [],
   "source": [
    "pred_fal_gmm_dia_train_reset=pred_fal_gmm_dia_train.reset_index(drop=True)"
   ]
  },
  {
   "cell_type": "code",
   "execution_count": null,
   "metadata": {},
   "outputs": [],
   "source": [
    "false_neg_train=pred_fal_gmm_dia_train_reset.iloc[false_failure_trainset]\n",
    "false_neg_train"
   ]
  },
  {
   "cell_type": "code",
   "execution_count": null,
   "metadata": {},
   "outputs": [],
   "source": [
    "import seaborn as sns\n",
    "plt.figure(figsize = (17,7))\n",
    "sns.scatterplot(pred_fal_gmm_dia_train.iloc[:,0],pred_fal_gmm_dia_train.iloc[:,1],color='#B2FF33', s=70, alpha=0.8).set_title('Predicted Failure cluster based on GMM (Train set)',fontsize=13)\n",
    "sns.scatterplot(false_neg_train.iloc[:,0],false_neg_train.iloc[:,1], color='#FF6E33' ,s=70, alpha=0.8)\n",
    "#plt.legend()\n",
    "plt.legend(labels=[\"True Failure\",\"False Failure\"])\n",
    "#plt.savefig('failure_only')\n",
    "plt.show()"
   ]
  },
  {
   "cell_type": "markdown",
   "metadata": {},
   "source": [
    "## Predicted Good Verification (Trian Set)"
   ]
  },
  {
   "cell_type": "code",
   "execution_count": null,
   "metadata": {},
   "outputs": [],
   "source": [
    "pred_good_gmm_dia_train=gmm_dia_train_df[gmm_dia_train_df['Train_labels']==0]"
   ]
  },
  {
   "cell_type": "code",
   "execution_count": null,
   "metadata": {},
   "outputs": [],
   "source": [
    "pred_good_gmm_dia_train.head()"
   ]
  },
  {
   "cell_type": "code",
   "execution_count": null,
   "metadata": {},
   "outputs": [],
   "source": []
  },
  {
   "cell_type": "code",
   "execution_count": null,
   "metadata": {},
   "outputs": [],
   "source": [
    "len(pred_good_gmm_dia_train)"
   ]
  },
  {
   "cell_type": "code",
   "execution_count": null,
   "metadata": {},
   "outputs": [],
   "source": [
    "plt.figure(figsize = (17,7))\n",
    "sns.scatterplot(pred_good_gmm_dia_train.iloc[:,0],pred_good_gmm_dia_train.iloc[:,1], color='#D133FF',  s=70, alpha=0.8).set_title(' Only Predicted Good cluster based GMM (Train Set)',fontsize=13)\n",
    "plt.legend(labels=['Predicted Good Cluster Only'],loc='upper left')\n",
    "#plt.savefig('Cluster_pCA_1_and_3')\n",
    "plt.show()"
   ]
  },
  {
   "cell_type": "code",
   "execution_count": null,
   "metadata": {},
   "outputs": [],
   "source": [
    "pred_good_gmm_dia_train_index=pred_good_gmm_dia_train.index\n",
    "pred_good_gmm_dia_train_index"
   ]
  },
  {
   "cell_type": "code",
   "execution_count": null,
   "metadata": {},
   "outputs": [],
   "source": [
    "len(pred_good_gmm_dia_train_index)"
   ]
  },
  {
   "cell_type": "code",
   "execution_count": null,
   "metadata": {},
   "outputs": [],
   "source": [
    "train_set_engin_df_reset"
   ]
  },
  {
   "cell_type": "code",
   "execution_count": null,
   "metadata": {},
   "outputs": [],
   "source": [
    "pred_good_gmm_dia_train_ids=[]\n",
    "for i in pred_good_gmm_dia_train_index:\n",
    "    pred_good_gmm_dia_train_ids.append(train_set_engin_df_reset.loc[i])\n",
    "pred_good_gmm_dia_train_ids=pd.DataFrame(pred_good_gmm_dia_train_ids)"
   ]
  },
  {
   "cell_type": "code",
   "execution_count": null,
   "metadata": {},
   "outputs": [],
   "source": [
    "len(pred_good_gmm_dia_train_ids)"
   ]
  },
  {
   "cell_type": "code",
   "execution_count": null,
   "metadata": {},
   "outputs": [],
   "source": [
    "pred_good_train_paths=[]\n",
    "for index, row in pred_good_gmm_dia_train_ids.iterrows():\n",
    "    dAT_path = getPath(row['Fault ID'], 1)\n",
    "    CFG_Path = getPath(row['Fault ID'], 2)\n",
    "    pred_good_train_paths.append([CFG_Path, dAT_path])"
   ]
  },
  {
   "cell_type": "code",
   "execution_count": null,
   "metadata": {},
   "outputs": [],
   "source": [
    "pred_good_train_phases=[]\n",
    "for index, row in pred_good_gmm_dia_train_ids.iterrows():\n",
    "    pred_good_train_phases.append(row['Phase'])"
   ]
  },
  {
   "cell_type": "code",
   "execution_count": null,
   "metadata": {},
   "outputs": [],
   "source": [
    "len(pred_good_train_phases)"
   ]
  },
  {
   "cell_type": "code",
   "execution_count": null,
   "metadata": {},
   "outputs": [],
   "source": [
    "pred_good_datasets=data_frames_creation(pred_good_train_paths)"
   ]
  },
  {
   "cell_type": "code",
   "execution_count": null,
   "metadata": {},
   "outputs": [],
   "source": [
    "len(pred_good_datasets)"
   ]
  },
  {
   "cell_type": "code",
   "execution_count": null,
   "metadata": {},
   "outputs": [],
   "source": [
    "pred_fal_good_Visualization(pred_good_datasets,pred_good_train_phases,col_names)"
   ]
  },
  {
   "cell_type": "code",
   "execution_count": null,
   "metadata": {},
   "outputs": [],
   "source": [
    "false_predgood_train=[705]"
   ]
  },
  {
   "cell_type": "code",
   "execution_count": null,
   "metadata": {},
   "outputs": [],
   "source": [
    "pred_good_gmm_dia_train_reset=pred_good_gmm_dia_train.reset_index(drop=True)"
   ]
  },
  {
   "cell_type": "code",
   "execution_count": null,
   "metadata": {},
   "outputs": [],
   "source": [
    "false_predgood_trainset_=pred_good_gmm_dia_train_reset.iloc[false_predgood_train]"
   ]
  },
  {
   "cell_type": "code",
   "execution_count": null,
   "metadata": {},
   "outputs": [],
   "source": [
    "len(false_predgood_trainset_)"
   ]
  },
  {
   "cell_type": "code",
   "execution_count": null,
   "metadata": {},
   "outputs": [],
   "source": [
    "import seaborn as sns\n",
    "plt.figure(figsize = (17,7))\n",
    "sns.scatterplot(pred_good_gmm_dia_train.iloc[:,0],pred_good_gmm_dia_train.iloc[:,1], color='#B2FF33', s=70, alpha=0.8).set_title(' True Positive Vs False Positive Baes on GMM (Train set)',fontsize=13)\n",
    "sns.scatterplot(false_predgood_trainset_.iloc[:,0],false_predgood_trainset_.iloc[:,1], color='#FF6E33', s=70, alpha=0.8)\n",
    "#plt.legend()\n",
    "plt.legend(labels=[\"True Positive\",\"False Positive\"])\n",
    "#plt.savefig('good_pred')\n",
    "plt.show()"
   ]
  },
  {
   "cell_type": "markdown",
   "metadata": {},
   "source": [
    "#### Prediction on Test set"
   ]
  },
  {
   "cell_type": "code",
   "execution_count": null,
   "metadata": {},
   "outputs": [],
   "source": [
    "np.random.seed(40)\n",
    "gmm_dia_test_labels=gmm_diag_train.predict(test_set)"
   ]
  },
  {
   "cell_type": "code",
   "execution_count": null,
   "metadata": {},
   "outputs": [],
   "source": [
    "len(gmm_dia_test_labels)"
   ]
  },
  {
   "cell_type": "code",
   "execution_count": null,
   "metadata": {},
   "outputs": [],
   "source": [
    "gmm_test_lab_df=pd.DataFrame(gmm_dia_test_labels,columns=['Test_labels'])"
   ]
  },
  {
   "cell_type": "code",
   "execution_count": null,
   "metadata": {},
   "outputs": [],
   "source": [
    "gmm_test_lab_df['Test_labels'].value_counts()"
   ]
  },
  {
   "cell_type": "code",
   "execution_count": null,
   "metadata": {},
   "outputs": [],
   "source": [
    "test_set_reset=test_set.reset_index(drop=True)\n",
    "test_set_reset"
   ]
  },
  {
   "cell_type": "code",
   "execution_count": null,
   "metadata": {},
   "outputs": [],
   "source": [
    "print('Silhoutte score of GMM clustering (Test set) is ' + str(silhouette_score(test_set, gmm_dia_test_labels)))"
   ]
  },
  {
   "cell_type": "code",
   "execution_count": null,
   "metadata": {},
   "outputs": [],
   "source": [
    "gmm_dia_test_df = pd.concat([test_set_reset, gmm_test_lab_df], axis=1)"
   ]
  },
  {
   "cell_type": "code",
   "execution_count": null,
   "metadata": {},
   "outputs": [],
   "source": [
    "plt.figure(figsize = (17,7))\n",
    "sns.scatterplot(gmm_dia_test_df.iloc[:,0],gmm_dia_test_df.iloc[:,1], hue=gmm_dia_test_df['Test_labels'], palette='magma', s=70, alpha=0.8).set_title('Distribution of cluster Based on Gaussian Mixture Model (Test set)',fontsize=13)\n",
    "plt.legend()\n",
    "#plt.savefig('Cluster_pCA_1_and_3')\n",
    "plt.show()"
   ]
  },
  {
   "cell_type": "markdown",
   "metadata": {},
   "source": [
    "###### `********************************************************************************************************************`"
   ]
  },
  {
   "cell_type": "markdown",
   "metadata": {},
   "source": [
    "## Predicted Failure Verification by GMM Diagonal (Test Set)"
   ]
  },
  {
   "cell_type": "code",
   "execution_count": null,
   "metadata": {},
   "outputs": [],
   "source": [
    "pred_fal_gmm_dia_test=gmm_dia_test_df[gmm_dia_test_df['Test_labels']==1]"
   ]
  },
  {
   "cell_type": "code",
   "execution_count": null,
   "metadata": {},
   "outputs": [],
   "source": [
    "pred_fal_gmm_dia_test"
   ]
  },
  {
   "cell_type": "code",
   "execution_count": null,
   "metadata": {},
   "outputs": [],
   "source": [
    "import seaborn as sns\n",
    "plt.figure(figsize = (17,7))\n",
    "sns.scatterplot(pred_fal_gmm_dia_test.iloc[:,0],pred_fal_gmm_dia_test.iloc[:,1],color='#08BF4B' , s=70, alpha=0.8).set_title('Only Predicted Failure cluster by GMM on Test set',fontsize=13)\n",
    "plt.legend(labels=['Predicted Failure Cluster Only (Test Set)'])\n",
    "#plt.savefig('Cluster_pCA_1_and_3')\n",
    "plt.show()"
   ]
  },
  {
   "cell_type": "code",
   "execution_count": null,
   "metadata": {},
   "outputs": [],
   "source": [
    "test_set_engin_df_reset=test_set_engin_df.reset_index(drop=True)\n",
    "test_set_engin_df_reset"
   ]
  },
  {
   "cell_type": "code",
   "execution_count": null,
   "metadata": {},
   "outputs": [],
   "source": [
    "predicted_failure_gmm_index_test=pred_fal_gmm_dia_test.index"
   ]
  },
  {
   "cell_type": "code",
   "execution_count": null,
   "metadata": {},
   "outputs": [],
   "source": [
    "predicted_failure_gmm_index_test"
   ]
  },
  {
   "cell_type": "code",
   "execution_count": null,
   "metadata": {},
   "outputs": [],
   "source": [
    "Faulty_pred_gmm_ids_test=[]\n",
    "for i in predicted_failure_gmm_index_test:\n",
    "    Faulty_pred_gmm_ids_test.append(test_set_engin_df_reset.loc[i])\n",
    "Faulty_pred_gmm_ids_test=pd.DataFrame(Faulty_pred_gmm_ids_test)"
   ]
  },
  {
   "cell_type": "code",
   "execution_count": null,
   "metadata": {},
   "outputs": [],
   "source": [
    "Faulty_pred_gmm_ids_test"
   ]
  },
  {
   "cell_type": "code",
   "execution_count": null,
   "metadata": {},
   "outputs": [],
   "source": [
    "gmm_dia_failure_paths_test=[]\n",
    "for index, row in Faulty_pred_gmm_ids_test.iterrows():\n",
    "    dAT_path = getPath(row['Fault ID'], 1)\n",
    "    CFG_Path = getPath(row['Fault ID'], 2)\n",
    "    gmm_dia_failure_paths_test.append([CFG_Path, dAT_path])"
   ]
  },
  {
   "cell_type": "code",
   "execution_count": null,
   "metadata": {},
   "outputs": [],
   "source": [
    "gmm_dia_faulty_phases_test=[]\n",
    "for index, row in Faulty_pred_gmm_ids_test.iterrows():\n",
    "    gmm_dia_faulty_phases_test.append(row['Phase'])"
   ]
  },
  {
   "cell_type": "code",
   "execution_count": null,
   "metadata": {},
   "outputs": [],
   "source": [
    "gmm_dia_fal_testdata=data_frames_creation(gmm_dia_failure_paths_test)"
   ]
  },
  {
   "cell_type": "code",
   "execution_count": null,
   "metadata": {},
   "outputs": [],
   "source": [
    "pred_fal_good_Visualization(gmm_dia_fal_testdata,gmm_dia_faulty_phases_test,col_names)"
   ]
  },
  {
   "cell_type": "code",
   "execution_count": null,
   "metadata": {},
   "outputs": [],
   "source": [
    "false_failure_testset=[12,65]"
   ]
  },
  {
   "cell_type": "code",
   "execution_count": null,
   "metadata": {},
   "outputs": [],
   "source": [
    "pred_fal_gmm_dia_test"
   ]
  },
  {
   "cell_type": "code",
   "execution_count": null,
   "metadata": {},
   "outputs": [],
   "source": [
    "pred_fal_gmm_dia_test_reset=pred_fal_gmm_dia_test.reset_index(drop=True)"
   ]
  },
  {
   "cell_type": "code",
   "execution_count": null,
   "metadata": {},
   "outputs": [],
   "source": [
    "false_neg_test=pred_fal_gmm_dia_test_reset.iloc[false_failure_testset]\n",
    "false_neg_test"
   ]
  },
  {
   "cell_type": "code",
   "execution_count": null,
   "metadata": {},
   "outputs": [],
   "source": [
    "import seaborn as sns\n",
    "plt.figure(figsize = (17,7))\n",
    "sns.scatterplot(pred_fal_gmm_dia_test.iloc[:,0],pred_fal_gmm_dia_test.iloc[:,1],color='#B2FF33', s=70, alpha=0.8).set_title('Predicted Failure cluster based on GMM (Test set)',fontsize=13)\n",
    "sns.scatterplot(false_neg_test.iloc[:,0],false_neg_test.iloc[:,1], color='#FF6E33' ,s=70, alpha=0.8)\n",
    "#plt.legend()\n",
    "plt.legend(labels=[\"True Failure\",\"False Failure\"])\n",
    "#plt.savefig('failure_only')\n",
    "plt.show()"
   ]
  },
  {
   "cell_type": "markdown",
   "metadata": {},
   "source": [
    "## Predicted Good Verification (Test Set)"
   ]
  },
  {
   "cell_type": "code",
   "execution_count": null,
   "metadata": {},
   "outputs": [],
   "source": [
    "pred_good_gmm_dia_test=gmm_dia_test_df[gmm_dia_test_df['Test_labels']==0]"
   ]
  },
  {
   "cell_type": "code",
   "execution_count": null,
   "metadata": {},
   "outputs": [],
   "source": [
    "plt.figure(figsize = (17,7))\n",
    "sns.scatterplot(pred_good_gmm_dia_test.iloc[:,0],pred_good_gmm_dia_test.iloc[:,1], color='#691381',  s=70, alpha=0.8).set_title(' Only Predicted Good cluster based GMM (Test Set)',fontsize=13)\n",
    "plt.legend(labels=['Predicted Good Cluster Only'],loc='upper left')\n",
    "#plt.savefig('Cluster_pCA_1_and_3')\n",
    "plt.show()"
   ]
  },
  {
   "cell_type": "code",
   "execution_count": null,
   "metadata": {},
   "outputs": [],
   "source": [
    "pred_good_gmm_dia_test_index=pred_good_gmm_dia_test.index\n",
    "pred_good_gmm_dia_test_index"
   ]
  },
  {
   "cell_type": "code",
   "execution_count": null,
   "metadata": {},
   "outputs": [],
   "source": [
    "pred_good_gmm_dia_test_ids=[]\n",
    "for i in pred_good_gmm_dia_test_index:\n",
    "    pred_good_gmm_dia_test_ids.append(test_set_engin_df_reset.loc[i])\n",
    "pred_good_gmm_dia_test_ids=pd.DataFrame(pred_good_gmm_dia_test_ids)"
   ]
  },
  {
   "cell_type": "code",
   "execution_count": null,
   "metadata": {},
   "outputs": [],
   "source": [
    "pred_good_test_paths=[]\n",
    "for index, row in pred_good_gmm_dia_test_ids.iterrows():\n",
    "    dAT_path = getPath(row['Fault ID'], 1)\n",
    "    CFG_Path = getPath(row['Fault ID'], 2)\n",
    "    pred_good_test_paths.append([CFG_Path, dAT_path])"
   ]
  },
  {
   "cell_type": "code",
   "execution_count": null,
   "metadata": {},
   "outputs": [],
   "source": [
    "pred_good_test_phases=[]\n",
    "for index, row in pred_good_gmm_dia_test_ids.iterrows():\n",
    "    pred_good_test_phases.append(row['Phase'])"
   ]
  },
  {
   "cell_type": "code",
   "execution_count": null,
   "metadata": {},
   "outputs": [],
   "source": [
    "pred_goodtest_datasets=data_frames_creation(pred_good_test_paths)"
   ]
  },
  {
   "cell_type": "code",
   "execution_count": null,
   "metadata": {},
   "outputs": [],
   "source": [
    "pred_fal_good_Visualization(pred_goodtest_datasets,pred_good_test_phases,col_names)"
   ]
  },
  {
   "cell_type": "code",
   "execution_count": null,
   "metadata": {},
   "outputs": [],
   "source": [
    "false_predgood_test=[112]"
   ]
  },
  {
   "cell_type": "code",
   "execution_count": null,
   "metadata": {},
   "outputs": [],
   "source": [
    "pred_good_gmm_dia_test_reset=pred_good_gmm_dia_test.reset_index(drop=True)\n",
    "false_predgood_testset_=pred_good_gmm_dia_test_reset.iloc[false_predgood_test]"
   ]
  },
  {
   "cell_type": "code",
   "execution_count": null,
   "metadata": {},
   "outputs": [],
   "source": [
    "false_predgood_testset_"
   ]
  },
  {
   "cell_type": "code",
   "execution_count": null,
   "metadata": {},
   "outputs": [],
   "source": [
    "plt.figure(figsize = (17,7))\n",
    "sns.scatterplot(pred_good_gmm_dia_test.iloc[:,0],pred_good_gmm_dia_test.iloc[:,1], color='#B2FF33', s=70, alpha=0.8).set_title(' True Positive Vs False Positive Baesd on GMM (Test set)',fontsize=13)\n",
    "sns.scatterplot(false_predgood_testset_.iloc[:,0],false_predgood_testset_.iloc[:,1], color='#FF6E33', s=70, alpha=0.8)\n",
    "#plt.legend()\n",
    "plt.legend(labels=[\"True Positive\",\"False Positive\"])\n",
    "#plt.savefig('good_pred')\n",
    "plt.show()"
   ]
  },
  {
   "cell_type": "markdown",
   "metadata": {},
   "source": [
    "#### Evaluation Metrics on Train and test Set"
   ]
  },
  {
   "cell_type": "markdown",
   "metadata": {},
   "source": [
    "###### Train Sets"
   ]
  },
  {
   "cell_type": "code",
   "execution_count": null,
   "metadata": {},
   "outputs": [],
   "source": [
    "from sklearn.metrics import silhouette_score\n",
    "from sklearn.metrics import calinski_harabasz_score\n",
    "from sklearn.metrics import davies_bouldin_score"
   ]
  },
  {
   "cell_type": "code",
   "execution_count": null,
   "metadata": {},
   "outputs": [],
   "source": [
    "Silhouette_score_trainset=silhouette_score(train_set,gmm_dia_train_labels)\n",
    "calinski_harabasz_score_trainset=calinski_harabasz_score(train_set,gmm_dia_train_labels)\n",
    "davies_bouldin_score_trainset=davies_bouldin_score(train_set,gmm_dia_train_labels)"
   ]
  },
  {
   "cell_type": "code",
   "execution_count": null,
   "metadata": {},
   "outputs": [],
   "source": [
    "print(Silhouette_score_trainset)\n",
    "print(calinski_harabasz_score_trainset)\n",
    "print(davies_bouldin_score_trainset)"
   ]
  },
  {
   "cell_type": "markdown",
   "metadata": {},
   "source": [
    "###### Test Sets"
   ]
  },
  {
   "cell_type": "code",
   "execution_count": null,
   "metadata": {},
   "outputs": [],
   "source": [
    "Silhouette_score_testset=silhouette_score(test_set,gmm_dia_test_labels)\n",
    "calinski_harabasz_score_testset=calinski_harabasz_score(test_set,gmm_dia_test_labels)\n",
    "davies_bouldin_score_testset=davies_bouldin_score(test_set,gmm_dia_test_labels)"
   ]
  },
  {
   "cell_type": "code",
   "execution_count": null,
   "metadata": {},
   "outputs": [],
   "source": [
    "print(Silhouette_score_testset)\n",
    "print(calinski_harabasz_score_testset)\n",
    "print(davies_bouldin_score_testset)"
   ]
  },
  {
   "cell_type": "code",
   "execution_count": null,
   "metadata": {},
   "outputs": [],
   "source": [
    "Evaluation_df=pd.DataFrame({\n",
    "    'Silhouette Score':[Silhouette_score_trainset,Silhouette_score_testset],\n",
    "    'Davis Bouldin Index': [davies_bouldin_score_trainset,davies_bouldin_score_testset],\n",
    "    'Calinski Harabasz Score':[calinski_harabasz_score_trainset,calinski_harabasz_score_testset]\n",
    "},\n",
    "index=['Gaussian Mixture Model (Train set)','Gaussian Mixture Model (Test set)'])"
   ]
  },
  {
   "cell_type": "code",
   "execution_count": null,
   "metadata": {},
   "outputs": [],
   "source": [
    "Evaluation_df"
   ]
  },
  {
   "cell_type": "markdown",
   "metadata": {},
   "source": [
    "#### Train Set Evaluation"
   ]
  },
  {
   "cell_type": "code",
   "execution_count": null,
   "metadata": {},
   "outputs": [],
   "source": [
    "pred_failure_train=322\n",
    "false_failure_train=7\n",
    "pred_good_train=776\n",
    "incor_good_preds_train=1"
   ]
  },
  {
   "cell_type": "code",
   "execution_count": null,
   "metadata": {},
   "outputs": [],
   "source": [
    "True_negative_train=322-7+1"
   ]
  },
  {
   "cell_type": "code",
   "execution_count": null,
   "metadata": {},
   "outputs": [],
   "source": [
    "True_positive_train=776-1+7\n",
    "True_positive_train"
   ]
  },
  {
   "cell_type": "code",
   "execution_count": null,
   "metadata": {},
   "outputs": [],
   "source": [
    "Precision_Gmm_train_good=(True_positive_train)/(True_positive_train+incor_good_preds_train)\n",
    "Precision_Gmm_train_good"
   ]
  },
  {
   "cell_type": "code",
   "execution_count": null,
   "metadata": {},
   "outputs": [],
   "source": [
    "recall_Gmm_train_good=(True_positive_train)/(True_positive_train+false_failure_train)\n",
    "recall_Gmm_train_good"
   ]
  },
  {
   "cell_type": "code",
   "execution_count": null,
   "metadata": {},
   "outputs": [],
   "source": [
    "F1_Gmm_train_good=(2*Precision_Gmm_train_good*recall_Gmm_train_good)/(Precision_Gmm_train_good+recall_Gmm_train_good)\n",
    "F1_Gmm_train_good"
   ]
  },
  {
   "cell_type": "code",
   "execution_count": null,
   "metadata": {},
   "outputs": [],
   "source": [
    "Precision_Gmm_train_failure=(True_negative_train)/(True_negative_train+incor_good_preds_train)\n",
    "Precision_Gmm_train_failure"
   ]
  },
  {
   "cell_type": "code",
   "execution_count": null,
   "metadata": {},
   "outputs": [],
   "source": [
    "recall_Gmm_train_failure=(True_negative_train)/(True_negative_train+false_failure_train)\n",
    "recall_Gmm_train_failure"
   ]
  },
  {
   "cell_type": "code",
   "execution_count": null,
   "metadata": {},
   "outputs": [],
   "source": [
    "F1_Gmm_train_failure=(2*Precision_Gmm_train_failure*recall_Gmm_train_failure)/(Precision_Gmm_train_failure+recall_Gmm_train_failure)\n",
    "F1_Gmm_train_failure"
   ]
  },
  {
   "cell_type": "code",
   "execution_count": null,
   "metadata": {},
   "outputs": [],
   "source": [
    "Evaluation_df_gmm_train=pd.DataFrame({\n",
    "    'Precision':[Precision_Gmm_train_good,Precision_Gmm_train_failure],\n",
    "    'Recall': [recall_Gmm_train_good,recall_Gmm_train_failure],\n",
    "    'F1-Score':[F1_Gmm_train_good,F1_Gmm_train_failure],\n",
    "},\n",
    "index=['Good Condition Train set (GMM)','Failure Train set (GMM)'])"
   ]
  },
  {
   "cell_type": "code",
   "execution_count": null,
   "metadata": {},
   "outputs": [],
   "source": [
    "Evaluation_df_gmm_train"
   ]
  },
  {
   "cell_type": "code",
   "execution_count": null,
   "metadata": {},
   "outputs": [],
   "source": [
    "###Accuracy"
   ]
  },
  {
   "cell_type": "code",
   "execution_count": null,
   "metadata": {},
   "outputs": [],
   "source": [
    "Accuracy_Gmm_train=(True_positive_train+True_negative_train)/(True_positive_train+false_failure_train+True_negative_train+incor_good_preds_train)\n",
    "Accuracy_Gmm_train"
   ]
  },
  {
   "cell_type": "code",
   "execution_count": null,
   "metadata": {},
   "outputs": [],
   "source": [
    "Specificity_Gmm_train=(True_negative_train)/(True_negative_train+incor_good_preds_train)\n",
    "Specificity_Gmm_train"
   ]
  },
  {
   "cell_type": "markdown",
   "metadata": {},
   "source": [
    "#### Test Set Evaluation"
   ]
  },
  {
   "cell_type": "code",
   "execution_count": null,
   "metadata": {},
   "outputs": [],
   "source": [
    "pred_failure_test=83\n",
    "false_failure_test=2\n",
    "pred_good_test=191\n",
    "incor_good_preds_test=1"
   ]
  },
  {
   "cell_type": "code",
   "execution_count": null,
   "metadata": {},
   "outputs": [],
   "source": [
    "True_negative_test=83-2+1\n",
    "True_negative_test"
   ]
  },
  {
   "cell_type": "code",
   "execution_count": null,
   "metadata": {},
   "outputs": [],
   "source": [
    "True_positive_test=191-1+2\n",
    "True_positive_test"
   ]
  },
  {
   "cell_type": "code",
   "execution_count": null,
   "metadata": {},
   "outputs": [],
   "source": [
    "Precision_Gmm_test_good=(True_positive_test)/(True_positive_test+incor_good_preds_test)\n",
    "Precision_Gmm_test_good"
   ]
  },
  {
   "cell_type": "code",
   "execution_count": null,
   "metadata": {},
   "outputs": [],
   "source": [
    "recall_Gmm_test_good=(True_positive_test)/(True_positive_test+false_failure_test)\n",
    "recall_Gmm_test_good"
   ]
  },
  {
   "cell_type": "code",
   "execution_count": null,
   "metadata": {},
   "outputs": [],
   "source": [
    "F1_Gmm_test_good=(2*Precision_Gmm_test_good*recall_Gmm_test_good)/(Precision_Gmm_test_good+recall_Gmm_test_good)\n",
    "F1_Gmm_test_good"
   ]
  },
  {
   "cell_type": "code",
   "execution_count": null,
   "metadata": {},
   "outputs": [],
   "source": [
    "Precision_Gmm_test_failure=(True_negative_test)/(True_negative_test+incor_good_preds_test)\n",
    "Precision_Gmm_test_failure"
   ]
  },
  {
   "cell_type": "code",
   "execution_count": null,
   "metadata": {},
   "outputs": [],
   "source": [
    "recall_Gmm_test_failure=(True_negative_test)/(True_negative_test+false_failure_test)\n",
    "recall_Gmm_test_failure"
   ]
  },
  {
   "cell_type": "code",
   "execution_count": null,
   "metadata": {},
   "outputs": [],
   "source": [
    "F1_Gmm_test_failure=(2*Precision_Gmm_test_failure*recall_Gmm_test_failure)/(Precision_Gmm_test_failure+recall_Gmm_test_failure)\n",
    "F1_Gmm_test_failure"
   ]
  },
  {
   "cell_type": "code",
   "execution_count": null,
   "metadata": {},
   "outputs": [],
   "source": [
    "Evaluation_df_gmm_test=pd.DataFrame({\n",
    "    'Precision':[Precision_Gmm_test_good,Precision_Gmm_test_failure],\n",
    "    'Recall': [recall_Gmm_test_good,recall_Gmm_test_failure],\n",
    "    'F1-Score':[F1_Gmm_test_good,F1_Gmm_test_failure],\n",
    "},\n",
    "index=['Good Condition Test set (GMM)','Failure Test set (GMM)'])"
   ]
  },
  {
   "cell_type": "code",
   "execution_count": null,
   "metadata": {},
   "outputs": [],
   "source": [
    "Evaluation_df_gmm_test"
   ]
  },
  {
   "cell_type": "code",
   "execution_count": null,
   "metadata": {},
   "outputs": [],
   "source": [
    "final_evaluation=pd.concat([Evaluation_df_gmm_train,Evaluation_df_gmm_test],axis=0)"
   ]
  },
  {
   "cell_type": "code",
   "execution_count": null,
   "metadata": {},
   "outputs": [],
   "source": [
    "final_evaluation"
   ]
  },
  {
   "cell_type": "code",
   "execution_count": null,
   "metadata": {},
   "outputs": [],
   "source": [
    "Accuracy_Gmm_test=(True_positive_test+True_negative_test)/(True_positive_test+false_failure_test+True_negative_test+incor_good_preds_test)\n",
    "Accuracy_Gmm_test"
   ]
  },
  {
   "cell_type": "code",
   "execution_count": null,
   "metadata": {},
   "outputs": [],
   "source": [
    "Specificity_Gmm_test=(True_negative_test)/(True_negative_test+incor_good_preds_test)\n",
    "Specificity_Gmm_test"
   ]
  },
  {
   "cell_type": "code",
   "execution_count": null,
   "metadata": {},
   "outputs": [],
   "source": []
  }
 ],
 "metadata": {
  "kernelspec": {
   "display_name": "Python 3",
   "language": "python",
   "name": "python3"
  },
  "language_info": {
   "codemirror_mode": {
    "name": "ipython",
    "version": 3
   },
   "file_extension": ".py",
   "mimetype": "text/x-python",
   "name": "python",
   "nbconvert_exporter": "python",
   "pygments_lexer": "ipython3",
   "version": "3.8.5"
  }
 },
 "nbformat": 4,
 "nbformat_minor": 4
}
