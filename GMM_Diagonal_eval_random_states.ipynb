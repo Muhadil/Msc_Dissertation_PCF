{
 "cells": [
  {
   "cell_type": "code",
   "execution_count": null,
   "metadata": {},
   "outputs": [],
   "source": [
    "import pandas as pd\n",
    "import numpy as np\n",
    "import matplotlib.pyplot as plt\n",
    "%matplotlib inline\n",
    "from comtrade import Comtrade\n",
    "import seaborn as sns"
   ]
  },
  {
   "cell_type": "markdown",
   "metadata": {},
   "source": [
    "##### Functions to be used"
   ]
  },
  {
   "cell_type": "code",
   "execution_count": null,
   "metadata": {},
   "outputs": [],
   "source": [
    "def data_frames_creation(paths):\n",
    "    temp=[]\n",
    "    for i in range (0, len(paths)):\n",
    "        rec = Comtrade()\n",
    "        rec.load(paths[i][0],paths[i][1])\n",
    "        samples_list=[]\n",
    "        for j in range (0, len(rec.analog)):\n",
    "            samples_list.append(rec.analog[j])\n",
    "        abc=pd.DataFrame(samples_list)\n",
    "        abc=abc.transpose()\n",
    "        abc.columns=rec.analog_channel_ids\n",
    "        time=pd.Series(data=rec.time,name='Time')\n",
    "        abc=pd.concat([time,abc],axis=1)\n",
    "        temp.append(abc)\n",
    "        samples_list=[]\n",
    "    return temp"
   ]
  },
  {
   "cell_type": "code",
   "execution_count": null,
   "metadata": {},
   "outputs": [],
   "source": [
    "import os\n",
    "def getPath(file_id, file_type):\n",
    "    response = ''\n",
    "    directory = \"C:\\\\Users\\\\Mahnoor Saeed\\\\Dissertation_Notebook\\\\cable_failure_dataset\\\\DAT_Files\"\n",
    "    if file_type == 2:\n",
    "        directory = \"C:\\\\Users\\\\Mahnoor Saeed\\\\Dissertation_Notebook\\\\cable_failure_dataset\\\\CFG_FILES\"\n",
    "    for path in os.listdir(directory):\n",
    "        full_path = os.path.join(directory, path)\n",
    "        if os.path.isfile(full_path):\n",
    "            if str(file_id) in full_path:\n",
    "                response = full_path\n",
    "    return response"
   ]
  },
  {
   "cell_type": "code",
   "execution_count": null,
   "metadata": {},
   "outputs": [],
   "source": [
    "def pred_fal_good_Visualization(dataframe, wrong_phases,columns):\n",
    "    for f in range (0,len(dataframe)):\n",
    "        if wrong_phases[f]=='A':\n",
    "            plt.figure(figsize=(15,3))\n",
    "            plt.title('Failure Sample '+str(f)+' Amplitude Vs Time of '+columns[0])\n",
    "            plt.plot(dataframe[f]['Time'],dataframe[f]['MPI3p1:I A'],color='#E9967A')\n",
    "        if wrong_phases[f]=='B':\n",
    "            plt.figure(figsize=(15,3))\n",
    "            plt.title('Failure Sample '+str(f)+' Amplitude Vs Time of '+columns[1])\n",
    "            plt.plot(dataframe[f]['Time'],dataframe[f]['MPI3p1:I B'],color='#108A0D')\n",
    "        if wrong_phases[f]=='C':\n",
    "            plt.figure(figsize=(15,3))\n",
    "            plt.title('Failure Sample '+str(f)+' Amplitude Vs Time of '+columns[2])\n",
    "            plt.plot(dataframe[f]['Time'],dataframe[f]['MPI3p1:I C'],color='#0282B9')\n",
    "        if wrong_phases[f]=='N':\n",
    "            plt.figure(figsize=(15,3))\n",
    "            plt.title('Failure Sample '+str(f)+' Amplitude Vs Time of '+columns[3])\n",
    "            plt.plot(dataframe[f]['Time'],dataframe[f]['MPI3p1:IN'],color='#C794F2')"
   ]
  },
  {
   "cell_type": "markdown",
   "metadata": {},
   "source": [
    "###### `********************************************************************************************************************`"
   ]
  },
  {
   "cell_type": "code",
   "execution_count": null,
   "metadata": {},
   "outputs": [],
   "source": [
    "ten_PCA=pd.read_csv('Ten_com_clustering.csv')"
   ]
  },
  {
   "cell_type": "code",
   "execution_count": null,
   "metadata": {},
   "outputs": [],
   "source": [
    "ten_PCA.head()"
   ]
  },
  {
   "cell_type": "markdown",
   "metadata": {},
   "source": [
    "#### GMM-Diagonal"
   ]
  },
  {
   "cell_type": "code",
   "execution_count": null,
   "metadata": {},
   "outputs": [],
   "source": [
    "ten_PCA"
   ]
  },
  {
   "cell_type": "code",
   "execution_count": null,
   "metadata": {},
   "outputs": [],
   "source": [
    "np.random.seed(40)\n",
    "from sklearn.mixture import GaussianMixture\n",
    "gmm_diag = GaussianMixture(n_components=2,covariance_type='diag').fit(ten_PCA)"
   ]
  },
  {
   "cell_type": "code",
   "execution_count": null,
   "metadata": {},
   "outputs": [],
   "source": [
    "gmm_diag.get_params()"
   ]
  },
  {
   "cell_type": "code",
   "execution_count": null,
   "metadata": {},
   "outputs": [],
   "source": [
    "np.random.seed(40)\n",
    "gmm_dia_labels=gmm_diag.predict(ten_PCA)"
   ]
  },
  {
   "cell_type": "code",
   "execution_count": null,
   "metadata": {},
   "outputs": [],
   "source": [
    "gmm_dia_df = pd.concat([ten_PCA, pd.DataFrame({'pca_clusters':gmm_dia_labels})], axis=1)"
   ]
  },
  {
   "cell_type": "code",
   "execution_count": null,
   "metadata": {},
   "outputs": [],
   "source": [
    "from sklearn.metrics import silhouette_score\n",
    "print('Silhoutte score of GMM clustering is ' + str(silhouette_score(ten_PCA, gmm_dia_labels)))"
   ]
  },
  {
   "cell_type": "code",
   "execution_count": null,
   "metadata": {},
   "outputs": [],
   "source": [
    "gmm_dia_df.head()"
   ]
  },
  {
   "cell_type": "code",
   "execution_count": null,
   "metadata": {},
   "outputs": [],
   "source": [
    "gmm_dia_df.to_csv('supervised_learning_dataset.csv',index = False)"
   ]
  },
  {
   "cell_type": "code",
   "execution_count": null,
   "metadata": {},
   "outputs": [],
   "source": [
    "import warnings\n",
    "warnings.filterwarnings('ignore')"
   ]
  },
  {
   "cell_type": "code",
   "execution_count": null,
   "metadata": {},
   "outputs": [],
   "source": [
    "gmm_dia_df['pca_clusters'].value_counts()"
   ]
  },
  {
   "cell_type": "code",
   "execution_count": null,
   "metadata": {},
   "outputs": [],
   "source": [
    "import seaborn as sns\n",
    "plt.figure(figsize = (17,7))\n",
    "sns.scatterplot(gmm_dia_df.iloc[:,0],gmm_dia_df.iloc[:,1], hue=gmm_dia_df['pca_clusters'], palette='mako', s=70, alpha=0.8).set_title('Distribution of cluster Based on Gaussian Mixture Model (Diagonal)',fontsize=13)\n",
    "plt.legend()\n",
    "plt.xlabel('1st Principal Component')\n",
    "plt.ylabel('2nd Principal Component')\n",
    "plt.savefig('Gmm_result')\n",
    "plt.show()"
   ]
  },
  {
   "cell_type": "markdown",
   "metadata": {},
   "source": [
    "###### `********************************************************************************************************************`"
   ]
  },
  {
   "cell_type": "markdown",
   "metadata": {},
   "source": [
    "## Predicted Failure Verification by GMM Diagonal "
   ]
  },
  {
   "cell_type": "code",
   "execution_count": null,
   "metadata": {},
   "outputs": [],
   "source": [
    "pred_fal_gmm_dia=gmm_dia_df[gmm_dia_df['pca_clusters']==1]"
   ]
  },
  {
   "cell_type": "code",
   "execution_count": null,
   "metadata": {},
   "outputs": [],
   "source": [
    "pred_fal_gmm_dia"
   ]
  },
  {
   "cell_type": "code",
   "execution_count": null,
   "metadata": {},
   "outputs": [],
   "source": [
    "import seaborn as sns\n",
    "plt.figure(figsize = (17,7))\n",
    "sns.scatterplot(pred_fal_gmm_dia.iloc[:,0],pred_fal_gmm_dia.iloc[:,1],color='#08BF4B' , s=70, alpha=0.8).set_title('Only Predicted Failure cluster by GMM',fontsize=13)\n",
    "plt.legend(labels=['Predicted Failure Cluster Only'])\n",
    "#plt.savefig('Cluster_pCA_1_and_3')\n",
    "plt.show()"
   ]
  },
  {
   "cell_type": "code",
   "execution_count": null,
   "metadata": {},
   "outputs": [],
   "source": [
    "predicted_failure_gmm_index=pred_fal_gmm_dia.index"
   ]
  },
  {
   "cell_type": "code",
   "execution_count": null,
   "metadata": {},
   "outputs": [],
   "source": [
    "engin_df=pd.read_csv('eng_features.csv')\n",
    "engin_df.head()"
   ]
  },
  {
   "cell_type": "code",
   "execution_count": null,
   "metadata": {},
   "outputs": [],
   "source": [
    "Faulty_pred_gmm_ids=[]\n",
    "for i in predicted_failure_gmm_index:\n",
    "    Faulty_pred_gmm_ids.append(engin_df.loc[i])\n",
    "Faulty_pred_gmm_ids=pd.DataFrame(Faulty_pred_gmm_ids)"
   ]
  },
  {
   "cell_type": "code",
   "execution_count": null,
   "metadata": {},
   "outputs": [],
   "source": [
    "Faulty_pred_gmm_ids"
   ]
  },
  {
   "cell_type": "code",
   "execution_count": null,
   "metadata": {},
   "outputs": [],
   "source": [
    "len(Faulty_pred_gmm_ids)"
   ]
  },
  {
   "cell_type": "code",
   "execution_count": null,
   "metadata": {},
   "outputs": [],
   "source": [
    "gmm_dia_failure_paths=[]\n",
    "for index, row in Faulty_pred_gmm_ids.iterrows():\n",
    "    dAT_path = getPath(row['Fault ID'], 1)\n",
    "    CFG_Path = getPath(row['Fault ID'], 2)\n",
    "    gmm_dia_failure_paths.append([CFG_Path, dAT_path])"
   ]
  },
  {
   "cell_type": "code",
   "execution_count": null,
   "metadata": {},
   "outputs": [],
   "source": [
    "gmm_dia_faulty_phases=[]\n",
    "for index, row in Faulty_pred_gmm_ids.iterrows():\n",
    "    gmm_dia_faulty_phases.append(row['Phase'])"
   ]
  },
  {
   "cell_type": "code",
   "execution_count": null,
   "metadata": {},
   "outputs": [],
   "source": [
    "print(len(gmm_dia_failure_paths))\n",
    "print(len(gmm_dia_faulty_phases))"
   ]
  },
  {
   "cell_type": "code",
   "execution_count": null,
   "metadata": {},
   "outputs": [],
   "source": [
    "gmm_dia_fal_data=data_frames_creation(gmm_dia_failure_paths)"
   ]
  },
  {
   "cell_type": "code",
   "execution_count": null,
   "metadata": {},
   "outputs": [],
   "source": [
    "len(gmm_dia_fal_data)"
   ]
  },
  {
   "cell_type": "code",
   "execution_count": null,
   "metadata": {},
   "outputs": [],
   "source": [
    "col_names=[ 'MPI3p1:I A', 'MPI3p1:I B', 'MPI3p1:I C', 'MPI3p1:IN']"
   ]
  },
  {
   "cell_type": "code",
   "execution_count": null,
   "metadata": {},
   "outputs": [],
   "source": [
    "pred_fal_good_Visualization(gmm_dia_fal_data,gmm_dia_faulty_phases,col_names)"
   ]
  },
  {
   "cell_type": "code",
   "execution_count": null,
   "metadata": {},
   "outputs": [],
   "source": [
    "false_failure_diag=[2,32,34,52,60,78,134,153,275,293,320]"
   ]
  },
  {
   "cell_type": "code",
   "execution_count": null,
   "metadata": {},
   "outputs": [],
   "source": [
    "len(false_failure_diag)"
   ]
  },
  {
   "cell_type": "code",
   "execution_count": null,
   "metadata": {},
   "outputs": [],
   "source": [
    "len(pred_fal_gmm_dia)"
   ]
  },
  {
   "cell_type": "code",
   "execution_count": null,
   "metadata": {},
   "outputs": [],
   "source": [
    "predicted_failure_gmm_dia_reset=pred_fal_gmm_dia.reset_index(drop=True)"
   ]
  },
  {
   "cell_type": "code",
   "execution_count": null,
   "metadata": {},
   "outputs": [],
   "source": [
    "predicted_failure_gmm_dia_reset"
   ]
  },
  {
   "cell_type": "code",
   "execution_count": null,
   "metadata": {},
   "outputs": [],
   "source": [
    "fal_drop_gmm_dia=pred_fal_gmm_dia.iloc[false_failure_diag]"
   ]
  },
  {
   "cell_type": "code",
   "execution_count": null,
   "metadata": {},
   "outputs": [],
   "source": [
    "len(fal_drop_gmm_dia)"
   ]
  },
  {
   "cell_type": "code",
   "execution_count": null,
   "metadata": {},
   "outputs": [],
   "source": [
    "import seaborn as sns\n",
    "plt.figure(figsize = (17,7))\n",
    "sns.scatterplot(pred_fal_gmm_dia.iloc[:,0],pred_fal_gmm_dia.iloc[:,1], color='#677666', s=70, alpha=0.4).set_title('Predicted Failure cluster only based on GMM (Co-Variance type: Diagonal)',fontsize=13)\n",
    "sns.scatterplot(fal_drop_gmm_dia.iloc[:,0],fal_drop_gmm_dia.iloc[:,1],  s=70, alpha=0.8, color='#F8652A')\n",
    "#plt.legend()\n",
    "plt.legend(labels=[\"True Failure\",\"False Failure\"])\n",
    "#plt.savefig('failure_only')\n",
    "plt.show()"
   ]
  },
  {
   "cell_type": "markdown",
   "metadata": {},
   "source": [
    "## Predicted Good Verification"
   ]
  },
  {
   "cell_type": "code",
   "execution_count": null,
   "metadata": {},
   "outputs": [],
   "source": [
    "predicted_good_gmm_dia=gmm_dia_df[gmm_dia_df['pca_clusters']==0]"
   ]
  },
  {
   "cell_type": "code",
   "execution_count": null,
   "metadata": {},
   "outputs": [],
   "source": [
    "predicted_good_gmm_dia.head()"
   ]
  },
  {
   "cell_type": "code",
   "execution_count": null,
   "metadata": {},
   "outputs": [],
   "source": [
    "Gmm_dia_predicted_good_index=predicted_good_gmm_dia.index\n",
    "Gmm_dia_predicted_good_index"
   ]
  },
  {
   "cell_type": "code",
   "execution_count": null,
   "metadata": {},
   "outputs": [],
   "source": [
    "len(Gmm_dia_predicted_good_index)"
   ]
  },
  {
   "cell_type": "code",
   "execution_count": null,
   "metadata": {},
   "outputs": [],
   "source": [
    "Good_pred_ids_gmm_dia=[]\n",
    "for i in Gmm_dia_predicted_good_index:\n",
    "    Good_pred_ids_gmm_dia.append(engin_df.loc[i])\n",
    "Good_pred_ids_gmm_dia=pd.DataFrame(Good_pred_ids_gmm_dia)"
   ]
  },
  {
   "cell_type": "code",
   "execution_count": null,
   "metadata": {},
   "outputs": [],
   "source": [
    "Good_pred_ids_gmm_dia.head()"
   ]
  },
  {
   "cell_type": "code",
   "execution_count": null,
   "metadata": {},
   "outputs": [],
   "source": [
    "gmm_dia_paths_g=[]\n",
    "for index, row in Good_pred_ids_gmm_dia.iterrows():\n",
    "    dAT_path = getPath(row['Fault ID'], 1)\n",
    "    CFG_Path = getPath(row['Fault ID'], 2)\n",
    "    gmm_dia_paths_g.append([CFG_Path, dAT_path])"
   ]
  },
  {
   "cell_type": "code",
   "execution_count": null,
   "metadata": {},
   "outputs": [],
   "source": [
    "gmm_dia_g_phases=[]\n",
    "for index, row in Good_pred_ids_gmm_dia.iterrows():\n",
    "    gmm_dia_g_phases.append(row['Phase'])"
   ]
  },
  {
   "cell_type": "code",
   "execution_count": null,
   "metadata": {},
   "outputs": [],
   "source": [
    "len(gmm_dia_g_phases)"
   ]
  },
  {
   "cell_type": "code",
   "execution_count": null,
   "metadata": {},
   "outputs": [],
   "source": [
    "pred_good_gmm_dia=data_frames_creation(gmm_dia_paths_g)"
   ]
  },
  {
   "cell_type": "code",
   "execution_count": null,
   "metadata": {},
   "outputs": [],
   "source": [
    "len(pred_good_gmm_dia)"
   ]
  },
  {
   "cell_type": "code",
   "execution_count": null,
   "metadata": {},
   "outputs": [],
   "source": [
    "pred_fal_good_Visualization(pred_good_gmm_dia,gmm_dia_g_phases,col_names)"
   ]
  },
  {
   "cell_type": "code",
   "execution_count": null,
   "metadata": {},
   "outputs": [],
   "source": [
    "predicted_good_gmm_dia.head()"
   ]
  },
  {
   "cell_type": "code",
   "execution_count": null,
   "metadata": {},
   "outputs": [],
   "source": [
    "gmm_dia_false_g=[93,99]"
   ]
  },
  {
   "cell_type": "code",
   "execution_count": null,
   "metadata": {},
   "outputs": [],
   "source": [
    "predicted_good_gmm_dia_index_resset=predicted_good_gmm_dia.reset_index(drop=True)"
   ]
  },
  {
   "cell_type": "code",
   "execution_count": null,
   "metadata": {},
   "outputs": [],
   "source": [
    "good_pred_false_df=predicted_good_gmm_dia_index_resset.iloc[gmm_dia_false_g]"
   ]
  },
  {
   "cell_type": "code",
   "execution_count": null,
   "metadata": {},
   "outputs": [],
   "source": [
    "good_pred_false_df"
   ]
  },
  {
   "cell_type": "code",
   "execution_count": null,
   "metadata": {},
   "outputs": [],
   "source": [
    "len(predicted_good_gmm_dia)"
   ]
  },
  {
   "cell_type": "code",
   "execution_count": null,
   "metadata": {},
   "outputs": [],
   "source": [
    "import seaborn as sns\n",
    "plt.figure(figsize = (17,7))\n",
    "sns.scatterplot(predicted_good_gmm_dia.iloc[:,0],predicted_good_gmm_dia.iloc[:,1], color='#677666',  s=70, alpha=0.8).set_title(' Only Predicted Good cluster based GMM (Diagonal)',fontsize=13)\n",
    "plt.legend(labels=['Predicted Good Cluster Only'],loc='upper left')\n",
    "#plt.savefig('Cluster_pCA_1_and_3')\n",
    "plt.show()"
   ]
  },
  {
   "cell_type": "code",
   "execution_count": null,
   "metadata": {},
   "outputs": [],
   "source": [
    "import seaborn as sns\n",
    "plt.figure(figsize = (17,7))\n",
    "sns.scatterplot(predicted_good_gmm_dia.iloc[:,0],predicted_good_gmm_dia.iloc[:,1], color='#677666', s=70, alpha=0.8).set_title(' True Positive Vs False Positive Baes on GMM (Diagonal)',fontsize=13)\n",
    "sns.scatterplot(good_pred_false_df.iloc[:,0],good_pred_false_df.iloc[:,1], color='#F8652A', s=70, alpha=0.8)\n",
    "#plt.legend()\n",
    "plt.legend(labels=[\"True Positive\",\"False Positive\"])\n",
    "#plt.savefig('good_pred')\n",
    "plt.show()"
   ]
  },
  {
   "cell_type": "code",
   "execution_count": null,
   "metadata": {},
   "outputs": [],
   "source": [
    "import seaborn as sns\n",
    "plt.figure(figsize = (20,7))\n",
    "sns.scatterplot(pred_fal_gmm_dia.iloc[:,0],pred_fal_gmm_dia.iloc[:,1], color='#677666', s=70, alpha=0.6).set_title('Predicted Failure cluster only based on GMM',fontsize=13)\n",
    "sns.scatterplot(fal_drop_gmm_dia.iloc[:,0],fal_drop_gmm_dia.iloc[:,1],  s=70, alpha=0.8, color='#F8652A')\n",
    "\n",
    "sns.scatterplot(predicted_good_gmm_dia.iloc[:,0],predicted_good_gmm_dia.iloc[:,1], color='#7926FA', s=70, alpha=0.8).set_title(' Gaussian Mixture Model (Diagonal)',fontsize=13)\n",
    "sns.scatterplot(good_pred_false_df.iloc[:,0],good_pred_false_df.iloc[:,1], color='#26FAA0', s=70, alpha=0.8)\n",
    "plt.legend(labels=[\"True Failure\",\"False Failure\",\"True Positive\",\"False Positive\"])\n",
    "\n",
    "#plt.xlim(-5, )\n",
    "#plt.ylim(-40, 40)\n",
    "#plt.savefig('failure_only')\n",
    "\n",
    "plt.show()"
   ]
  },
  {
   "cell_type": "markdown",
   "metadata": {},
   "source": [
    "#### GMM Diagonal Evaluation"
   ]
  },
  {
   "cell_type": "code",
   "execution_count": null,
   "metadata": {},
   "outputs": [],
   "source": [
    "pred_failure_diag=404\n",
    "false_failure_diagonal=11\n",
    "pred_good_diagonal=968\n",
    "incor_good_preds_diagonal=2"
   ]
  },
  {
   "cell_type": "code",
   "execution_count": null,
   "metadata": {},
   "outputs": [],
   "source": [
    "True_negative_diag=404-11+2"
   ]
  },
  {
   "cell_type": "code",
   "execution_count": null,
   "metadata": {},
   "outputs": [],
   "source": [
    "True_negative_diag"
   ]
  },
  {
   "cell_type": "code",
   "execution_count": null,
   "metadata": {},
   "outputs": [],
   "source": [
    "True_positive_diag=968-2+11\n",
    "True_positive_diag"
   ]
  },
  {
   "cell_type": "code",
   "execution_count": null,
   "metadata": {},
   "outputs": [],
   "source": [
    "Precision_Gmm_Diagonal_good=(True_positive_diag)/(True_positive_diag+incor_good_preds_diagonal)"
   ]
  },
  {
   "cell_type": "code",
   "execution_count": null,
   "metadata": {},
   "outputs": [],
   "source": [
    "Precision_Gmm_Diagonal_good"
   ]
  },
  {
   "cell_type": "code",
   "execution_count": null,
   "metadata": {},
   "outputs": [],
   "source": [
    "recall_Gmm_Diagonal_good=(True_positive_diag)/(True_positive_diag+false_failure_diagonal)"
   ]
  },
  {
   "cell_type": "code",
   "execution_count": null,
   "metadata": {},
   "outputs": [],
   "source": [
    "recall_Gmm_Diagonal_good"
   ]
  },
  {
   "cell_type": "code",
   "execution_count": null,
   "metadata": {},
   "outputs": [],
   "source": [
    "F1_Gmm_Diagonal_good=(2*Precision_Gmm_Diagonal_good*recall_Gmm_Diagonal_good)/(Precision_Gmm_Diagonal_good+recall_Gmm_Diagonal_good)"
   ]
  },
  {
   "cell_type": "code",
   "execution_count": null,
   "metadata": {},
   "outputs": [],
   "source": [
    "F1_Gmm_Diagonal_good"
   ]
  },
  {
   "cell_type": "code",
   "execution_count": null,
   "metadata": {},
   "outputs": [],
   "source": []
  },
  {
   "cell_type": "code",
   "execution_count": null,
   "metadata": {},
   "outputs": [],
   "source": [
    "Precision_Gmm_Diagonal_failure=(True_negative_diag)/(True_negative_diag+incor_good_preds_diagonal)"
   ]
  },
  {
   "cell_type": "code",
   "execution_count": null,
   "metadata": {},
   "outputs": [],
   "source": [
    "recall_gmm_failure=(True_negative_diag)/(True_negative_diag+false_failure_diagonal)\n",
    "recall_gmm_failure"
   ]
  },
  {
   "cell_type": "code",
   "execution_count": null,
   "metadata": {},
   "outputs": [],
   "source": [
    "F1_Gmm_Diagonal_failure=(2*Precision_Gmm_Diagonal_failure*recall_gmm_failure)/(Precision_Gmm_Diagonal_failure+recall_gmm_failure)"
   ]
  },
  {
   "cell_type": "code",
   "execution_count": null,
   "metadata": {},
   "outputs": [],
   "source": [
    "F1_Gmm_Diagonal_failure"
   ]
  },
  {
   "cell_type": "code",
   "execution_count": null,
   "metadata": {},
   "outputs": [],
   "source": [
    "# Accuracy Formula=(TP+TN)/(TP+FN+TN+FP)"
   ]
  },
  {
   "cell_type": "code",
   "execution_count": null,
   "metadata": {},
   "outputs": [],
   "source": [
    "Accuracy_Gmm_Diagonal=(True_positive_diag+True_negative_diag)/(True_positive_diag+false_failure_diagonal+True_negative_diag+incor_good_preds_diagonal)"
   ]
  },
  {
   "cell_type": "code",
   "execution_count": null,
   "metadata": {},
   "outputs": [],
   "source": [
    "Accuracy_Gmm_Diagonal"
   ]
  },
  {
   "cell_type": "code",
   "execution_count": null,
   "metadata": {},
   "outputs": [],
   "source": [
    "#Specificity=(TN/(TN+FP))"
   ]
  },
  {
   "cell_type": "code",
   "execution_count": null,
   "metadata": {},
   "outputs": [],
   "source": [
    "Specificity_Gmm_Diagonal=(True_negative_diag)/(True_negative_diag+incor_good_preds_diagonal)"
   ]
  },
  {
   "cell_type": "code",
   "execution_count": null,
   "metadata": {},
   "outputs": [],
   "source": [
    "Specificity_Gmm_Diagonal"
   ]
  },
  {
   "cell_type": "code",
   "execution_count": null,
   "metadata": {},
   "outputs": [],
   "source": [
    "Evaluation_df_gmm=pd.DataFrame({\n",
    "    'Precision':[Precision_Gmm_Diagonal_good,Precision_Gmm_Diagonal_failure],\n",
    "    'Recall': [recall_Gmm_Diagonal_good,recall_gmm_failure],\n",
    "    'F1-Score':[F1_Gmm_Diagonal_good,F1_Gmm_Diagonal_failure],\n",
    "},\n",
    "index=['Good Condition (GMM)','Failure (GMM)'])"
   ]
  },
  {
   "cell_type": "code",
   "execution_count": null,
   "metadata": {},
   "outputs": [],
   "source": [
    "Evaluation_df_gmm"
   ]
  },
  {
   "cell_type": "markdown",
   "metadata": {},
   "source": [
    "#### EVALUATION WITH RANDOM STATES"
   ]
  },
  {
   "cell_type": "code",
   "execution_count": null,
   "metadata": {},
   "outputs": [],
   "source": [
    "from sklearn.metrics import silhouette_score\n",
    "from sklearn.mixture import GaussianMixture\n",
    "from sklearn.metrics import calinski_harabasz_score\n",
    "from sklearn.metrics import davies_bouldin_score"
   ]
  },
  {
   "cell_type": "code",
   "execution_count": null,
   "metadata": {},
   "outputs": [],
   "source": [
    "random_states=[32,199,280,500,1000,2000]"
   ]
  },
  {
   "cell_type": "code",
   "execution_count": null,
   "metadata": {},
   "outputs": [],
   "source": [
    "sil_score=[]\n",
    "cal_score=[]\n",
    "dav_bold=[]"
   ]
  },
  {
   "cell_type": "code",
   "execution_count": null,
   "metadata": {},
   "outputs": [],
   "source": [
    "for i in random_states:\n",
    "    gmm_diag_eval = GaussianMixture(n_components=2,covariance_type='diag',random_state=i).fit(ten_PCA)\n",
    "    gmm_dia_labels_eval=gmm_diag_eval.predict(ten_PCA)\n",
    "    sil_score.append(silhouette_score(ten_PCA,gmm_dia_labels_eval)) \n",
    "    cal_score.append(calinski_harabasz_score(ten_PCA,gmm_dia_labels_eval))\n",
    "    dav_bold.append(davies_bouldin_score(ten_PCA,gmm_dia_labels_eval))"
   ]
  },
  {
   "cell_type": "code",
   "execution_count": null,
   "metadata": {},
   "outputs": [],
   "source": [
    "sil_score"
   ]
  },
  {
   "cell_type": "code",
   "execution_count": null,
   "metadata": {},
   "outputs": [],
   "source": [
    "cal_score"
   ]
  },
  {
   "cell_type": "code",
   "execution_count": null,
   "metadata": {},
   "outputs": [],
   "source": [
    "dav_bold"
   ]
  },
  {
   "cell_type": "code",
   "execution_count": null,
   "metadata": {},
   "outputs": [],
   "source": [
    "index_df=pd.DataFrame({'sil':sil_score,\n",
    "                      'calinski':cal_score,\n",
    "                     'DB':dav_bold})"
   ]
  },
  {
   "cell_type": "code",
   "execution_count": null,
   "metadata": {},
   "outputs": [],
   "source": [
    "index_df"
   ]
  },
  {
   "cell_type": "code",
   "execution_count": null,
   "metadata": {},
   "outputs": [],
   "source": [
    "index_df_drop_calin=index_df.drop('calinski',axis=1)"
   ]
  },
  {
   "cell_type": "code",
   "execution_count": null,
   "metadata": {},
   "outputs": [],
   "source": [
    "index_df_drop_calin"
   ]
  },
  {
   "cell_type": "code",
   "execution_count": null,
   "metadata": {},
   "outputs": [],
   "source": []
  },
  {
   "cell_type": "code",
   "execution_count": null,
   "metadata": {},
   "outputs": [],
   "source": []
  },
  {
   "cell_type": "markdown",
   "metadata": {},
   "source": [
    "###### Experiment (Clustering the Failure)"
   ]
  },
  {
   "cell_type": "code",
   "execution_count": null,
   "metadata": {},
   "outputs": [],
   "source": [
    "Faulty_pred_gmm_ids"
   ]
  },
  {
   "cell_type": "code",
   "execution_count": null,
   "metadata": {},
   "outputs": [],
   "source": [
    "Faulty_pred_gmm_ids_rest=Faulty_pred_gmm_ids.reset_index(drop=True)"
   ]
  },
  {
   "cell_type": "code",
   "execution_count": null,
   "metadata": {},
   "outputs": [],
   "source": [
    "Faulty_pred_gmm_ids_rest"
   ]
  },
  {
   "cell_type": "code",
   "execution_count": null,
   "metadata": {},
   "outputs": [],
   "source": [
    "false_failure_diag"
   ]
  },
  {
   "cell_type": "code",
   "execution_count": null,
   "metadata": {},
   "outputs": [],
   "source": [
    "only_pred_fal_gmm=Faulty_pred_gmm_ids_rest.drop(false_failure_diag,axis=0)"
   ]
  },
  {
   "cell_type": "code",
   "execution_count": null,
   "metadata": {},
   "outputs": [],
   "source": [
    "only_pred_fal_gmm"
   ]
  },
  {
   "cell_type": "code",
   "execution_count": null,
   "metadata": {},
   "outputs": [],
   "source": [
    "only_gmm_dia_failure_paths=[]\n",
    "for index, row in only_pred_fal_gmm.iterrows():\n",
    "    dAT_path = getPath(row['Fault ID'], 1)\n",
    "    CFG_Path = getPath(row['Fault ID'], 2)\n",
    "    only_gmm_dia_failure_paths.append([CFG_Path, dAT_path])"
   ]
  },
  {
   "cell_type": "code",
   "execution_count": null,
   "metadata": {},
   "outputs": [],
   "source": [
    "only_gmm_dia_faulty_phases=[]\n",
    "for index, row in only_pred_fal_gmm.iterrows():\n",
    "    only_gmm_dia_faulty_phases.append(row['Phase'])"
   ]
  },
  {
   "cell_type": "code",
   "execution_count": null,
   "metadata": {},
   "outputs": [],
   "source": [
    "print(len(only_gmm_dia_failure_paths))\n",
    "print(len(only_gmm_dia_faulty_phases))"
   ]
  },
  {
   "cell_type": "code",
   "execution_count": null,
   "metadata": {},
   "outputs": [],
   "source": [
    "pred_fal_exp_data=data_frames_creation(only_gmm_dia_failure_paths)"
   ]
  },
  {
   "cell_type": "code",
   "execution_count": null,
   "metadata": {},
   "outputs": [],
   "source": [
    "pred_fal_exp_data"
   ]
  },
  {
   "cell_type": "code",
   "execution_count": null,
   "metadata": {},
   "outputs": [],
   "source": [
    "exp_dataset_1=predicted_failure_gmm_dia_reset.drop(false_failure_diag,axis=0)"
   ]
  },
  {
   "cell_type": "code",
   "execution_count": null,
   "metadata": {},
   "outputs": [],
   "source": [
    "exp_dataset_1=exp_dataset_1.drop('pca_clusters',axis=1)"
   ]
  },
  {
   "cell_type": "code",
   "execution_count": null,
   "metadata": {},
   "outputs": [],
   "source": [
    "exp_dataset_1"
   ]
  },
  {
   "cell_type": "code",
   "execution_count": null,
   "metadata": {},
   "outputs": [],
   "source": [
    "np.random.seed(43)\n",
    "from sklearn.cluster import KMeans\n",
    "\n",
    "kmeans_models_s = [KMeans(n_clusters=k).fit(exp_dataset_1) for k in range (1, 10)]\n",
    "innertia_s = [model.inertia_ for model in kmeans_models_s]\n",
    "\n",
    "plt.plot(range(1, 10), innertia_s,'-o',color='#783654')\n",
    "plt.title('Elbow method (Spectral Domian Features)')\n",
    "plt.xlabel('Number of Clusters')\n",
    "plt.ylabel('Model Inertia')\n",
    "plt.show()\n",
    "#plt.savefig('Elbow_1.png');"
   ]
  },
  {
   "cell_type": "code",
   "execution_count": null,
   "metadata": {},
   "outputs": [],
   "source": [
    "np.random.seed(40)\n",
    "from sklearn.metrics import silhouette_score\n",
    "\n",
    "silhoutte_scores_s = [silhouette_score(exp_dataset_1, model.labels_) for model in kmeans_models_s[1:10]]\n",
    "plt.plot(range(2,10), silhoutte_scores_s, \"bo-\",color='#857376')\n",
    "plt.xticks([2, 3, 4, 5,6,7,8,9])\n",
    "plt.title('Silhouette scores vs Number of clusters')\n",
    "plt.xlabel('Number of clusters')\n",
    "plt.ylabel('Silhoutte score')\n",
    "#plt.savefig('Silhoutte_score.png')\n",
    "plt.show()"
   ]
  },
  {
   "cell_type": "code",
   "execution_count": null,
   "metadata": {},
   "outputs": [],
   "source": [
    "#### silhouette_score when Cluster= 2\n",
    "np.random.seed(40)\n",
    "from sklearn.metrics import silhouette_score\n",
    "\n",
    "clustering_spectral = KMeans(n_clusters=2)\n",
    "clustering_spectral.fit(exp_dataset_1)\n",
    "\n",
    "print('Silhoutte score of K-Mean clustering is ' + str(silhouette_score(exp_dataset_1, clustering_spectral.labels_)))"
   ]
  },
  {
   "cell_type": "code",
   "execution_count": null,
   "metadata": {},
   "outputs": [],
   "source": [
    "np.random.seed(9)\n",
    "spectral_labels=clustering_spectral.labels_\n",
    "spectral_labels"
   ]
  },
  {
   "cell_type": "code",
   "execution_count": null,
   "metadata": {},
   "outputs": [],
   "source": [
    "exp_dataset_1=exp_dataset_1.reset_index(drop='True')"
   ]
  },
  {
   "cell_type": "code",
   "execution_count": null,
   "metadata": {},
   "outputs": [],
   "source": [
    "spectral_final_exp = pd.concat([exp_dataset_1, pd.DataFrame({'pca_clusters':spectral_labels})], axis=1)\n",
    "spectral_final_exp"
   ]
  },
  {
   "cell_type": "code",
   "execution_count": null,
   "metadata": {},
   "outputs": [],
   "source": [
    "spectral_final_exp['pca_clusters'].value_counts()"
   ]
  },
  {
   "cell_type": "code",
   "execution_count": null,
   "metadata": {},
   "outputs": [],
   "source": [
    "##### Clustering with all Feature (All engineered Features)\n",
    "#### When Cluster Number are 2\n",
    "\n",
    "import seaborn as sns\n",
    "plt.figure(figsize = (17,7))\n",
    "sns.scatterplot(spectral_final_exp.iloc[:,0],spectral_final_exp.iloc[:,1], hue=spectral_final_exp['pca_clusters'], palette='viridis', s=70, alpha=0.8).set_title('Distribution of cluster based on Spectral Domain Features (PCA)',fontsize=13)\n",
    "plt.legend()\n",
    "#plt.savefig('Cluster_pCA_1_and_3')\n",
    "plt.show()"
   ]
  },
  {
   "cell_type": "code",
   "execution_count": null,
   "metadata": {},
   "outputs": [],
   "source": []
  },
  {
   "cell_type": "code",
   "execution_count": null,
   "metadata": {},
   "outputs": [],
   "source": []
  },
  {
   "cell_type": "code",
   "execution_count": null,
   "metadata": {},
   "outputs": [],
   "source": []
  },
  {
   "cell_type": "code",
   "execution_count": null,
   "metadata": {},
   "outputs": [],
   "source": []
  },
  {
   "cell_type": "markdown",
   "metadata": {},
   "source": [
    "#### Type 1"
   ]
  },
  {
   "cell_type": "code",
   "execution_count": null,
   "metadata": {},
   "outputs": [],
   "source": [
    "fal_type_1=spectral_final_exp[spectral_final_exp['pca_clusters']==0]\n",
    "fal_type_2=spectral_final_exp[spectral_final_exp['pca_clusters']==1]"
   ]
  },
  {
   "cell_type": "code",
   "execution_count": null,
   "metadata": {},
   "outputs": [],
   "source": [
    "fal_type_1"
   ]
  },
  {
   "cell_type": "code",
   "execution_count": null,
   "metadata": {},
   "outputs": [],
   "source": [
    "fal_type_1_index=fal_type_1.index"
   ]
  },
  {
   "cell_type": "code",
   "execution_count": null,
   "metadata": {},
   "outputs": [],
   "source": [
    "fal_type_1_index"
   ]
  },
  {
   "cell_type": "code",
   "execution_count": null,
   "metadata": {},
   "outputs": [],
   "source": [
    "only_pred_fal_gmm_reset=only_pred_fal_gmm.reset_index(drop='True')"
   ]
  },
  {
   "cell_type": "code",
   "execution_count": null,
   "metadata": {},
   "outputs": [],
   "source": [
    "len(only_pred_fal_gmm_reset)"
   ]
  },
  {
   "cell_type": "code",
   "execution_count": null,
   "metadata": {},
   "outputs": [],
   "source": [
    "type_1_ids=[]\n",
    "for i in fal_type_1_index:\n",
    "    #print(i)\n",
    "    type_1_ids.append(only_pred_fal_gmm_reset.loc[i])\n",
    "type_1_ids=pd.DataFrame(type_1_ids)"
   ]
  },
  {
   "cell_type": "code",
   "execution_count": null,
   "metadata": {},
   "outputs": [],
   "source": [
    "type_1_ids"
   ]
  },
  {
   "cell_type": "code",
   "execution_count": null,
   "metadata": {},
   "outputs": [],
   "source": [
    "failure_type1_paths=[]\n",
    "for index, row in type_1_ids.iterrows():\n",
    "    dAT_path = getPath(row['Fault ID'], 1)\n",
    "    CFG_Path = getPath(row['Fault ID'], 2)\n",
    "    failure_type1_paths.append([CFG_Path, dAT_path])"
   ]
  },
  {
   "cell_type": "code",
   "execution_count": null,
   "metadata": {},
   "outputs": [],
   "source": [
    "len(failure_type1_paths)"
   ]
  },
  {
   "cell_type": "code",
   "execution_count": null,
   "metadata": {},
   "outputs": [],
   "source": [
    "type_1_phases=[]\n",
    "for index, row in type_1_ids.iterrows():\n",
    "    type_1_phases.append(row['Phase'])"
   ]
  },
  {
   "cell_type": "code",
   "execution_count": null,
   "metadata": {},
   "outputs": [],
   "source": [
    "len(type_1_phases)"
   ]
  },
  {
   "cell_type": "code",
   "execution_count": null,
   "metadata": {},
   "outputs": [],
   "source": [
    "type_1_dataset=data_frames_creation(failure_type1_paths)"
   ]
  },
  {
   "cell_type": "code",
   "execution_count": null,
   "metadata": {},
   "outputs": [],
   "source": [
    "len(type_1_dataset)"
   ]
  },
  {
   "cell_type": "code",
   "execution_count": null,
   "metadata": {},
   "outputs": [],
   "source": [
    "pred_fal_good_Visualization(type_1_dataset,type_1_phases,col_names)"
   ]
  },
  {
   "cell_type": "markdown",
   "metadata": {},
   "source": [
    "#### Type 2"
   ]
  },
  {
   "cell_type": "code",
   "execution_count": null,
   "metadata": {},
   "outputs": [],
   "source": [
    "fal_type_2"
   ]
  },
  {
   "cell_type": "code",
   "execution_count": null,
   "metadata": {},
   "outputs": [],
   "source": [
    "fal_type_2_index=fal_type_2.index"
   ]
  },
  {
   "cell_type": "code",
   "execution_count": null,
   "metadata": {},
   "outputs": [],
   "source": [
    "type_2_ids=[]\n",
    "for i in fal_type_2_index:\n",
    "    #print(i)\n",
    "    type_2_ids.append(only_pred_fal_gmm_reset.loc[i])\n",
    "type_2_ids=pd.DataFrame(type_2_ids)"
   ]
  },
  {
   "cell_type": "code",
   "execution_count": null,
   "metadata": {},
   "outputs": [],
   "source": [
    "failure_type2_paths=[]\n",
    "for index, row in type_2_ids.iterrows():\n",
    "    dAT_path = getPath(row['Fault ID'], 1)\n",
    "    CFG_Path = getPath(row['Fault ID'], 2)\n",
    "    failure_type2_paths.append([CFG_Path, dAT_path])"
   ]
  },
  {
   "cell_type": "code",
   "execution_count": null,
   "metadata": {},
   "outputs": [],
   "source": [
    "len(failure_type2_paths)"
   ]
  },
  {
   "cell_type": "code",
   "execution_count": null,
   "metadata": {},
   "outputs": [],
   "source": [
    "type_2_phases=[]\n",
    "for index, row in type_2_ids.iterrows():\n",
    "    type_2_phases.append(row['Phase'])"
   ]
  },
  {
   "cell_type": "code",
   "execution_count": null,
   "metadata": {},
   "outputs": [],
   "source": [
    "len(type_2_phases)"
   ]
  },
  {
   "cell_type": "code",
   "execution_count": null,
   "metadata": {},
   "outputs": [],
   "source": [
    "type_2_dataset=data_frames_creation(failure_type2_paths)"
   ]
  },
  {
   "cell_type": "code",
   "execution_count": null,
   "metadata": {},
   "outputs": [],
   "source": [
    "pred_fal_good_Visualization(type_2_dataset,type_2_phases,col_names)"
   ]
  },
  {
   "cell_type": "code",
   "execution_count": null,
   "metadata": {},
   "outputs": [],
   "source": []
  }
 ],
 "metadata": {
  "kernelspec": {
   "display_name": "Python 3",
   "language": "python",
   "name": "python3"
  },
  "language_info": {
   "codemirror_mode": {
    "name": "ipython",
    "version": 3
   },
   "file_extension": ".py",
   "mimetype": "text/x-python",
   "name": "python",
   "nbconvert_exporter": "python",
   "pygments_lexer": "ipython3",
   "version": "3.8.5"
  }
 },
 "nbformat": 4,
 "nbformat_minor": 4
}
