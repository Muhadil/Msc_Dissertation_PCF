{
 "cells": [
  {
   "cell_type": "code",
   "execution_count": null,
   "metadata": {},
   "outputs": [],
   "source": [
    "import pandas as pd\n",
    "import numpy as np\n",
    "import matplotlib.pyplot as plt\n",
    "%matplotlib inline\n",
    "from comtrade import Comtrade\n",
    "import seaborn as sns"
   ]
  },
  {
   "cell_type": "code",
   "execution_count": null,
   "metadata": {},
   "outputs": [],
   "source": [
    "import os\n",
    "def get_all_Paths(file_type):\n",
    "    response = []\n",
    "    directory = \"C:\\\\Users\\\\Mahnoor Saeed\\\\Dissertation_Notebook\\\\cable_failure_dataset\\\\DAT_Files\"\n",
    "    if file_type == 2:\n",
    "        directory = \"C:\\\\Users\\\\Mahnoor Saeed\\\\Dissertation_Notebook\\\\cable_failure_dataset\\\\CFG_FILES\"\n",
    "    for path in os.listdir(directory):\n",
    "        full_path = os.path.join(directory, path)\n",
    "        if os.path.isfile(full_path):\n",
    "            response.append(full_path)\n",
    "    return response"
   ]
  },
  {
   "cell_type": "code",
   "execution_count": null,
   "metadata": {},
   "outputs": [],
   "source": [
    "dat_path = get_all_Paths(1)\n",
    "cgf_path = get_all_Paths(2)"
   ]
  },
  {
   "cell_type": "code",
   "execution_count": null,
   "metadata": {},
   "outputs": [],
   "source": [
    "file_paths = []\n",
    "for index, element in enumerate(dat_path):\n",
    "    file_paths.append([cgf_path[index], element])"
   ]
  },
  {
   "cell_type": "code",
   "execution_count": null,
   "metadata": {},
   "outputs": [],
   "source": [
    "file_paths[0]"
   ]
  },
  {
   "cell_type": "code",
   "execution_count": null,
   "metadata": {},
   "outputs": [],
   "source": [
    "import warnings\n",
    "warnings.filterwarnings('ignore')"
   ]
  },
  {
   "cell_type": "code",
   "execution_count": null,
   "metadata": {},
   "outputs": [],
   "source": [
    "def data_frames_creation(paths):\n",
    "    temp=[]\n",
    "    for i in range (0, len(paths)):\n",
    "        rec = Comtrade()\n",
    "        rec.load(paths[i][0],paths[i][1])\n",
    "        samples_list=[]\n",
    "        for j in range (0, len(rec.analog)):\n",
    "            samples_list.append(rec.analog[j])\n",
    "        abc=pd.DataFrame(samples_list)\n",
    "        abc=abc.transpose()\n",
    "        abc.columns=rec.analog_channel_ids\n",
    "        time=pd.Series(data=rec.time,name='Time')\n",
    "        abc=pd.concat([time,abc],axis=1)\n",
    "        temp.append(abc)\n",
    "        samples_list=[]\n",
    "    return temp"
   ]
  },
  {
   "cell_type": "code",
   "execution_count": null,
   "metadata": {},
   "outputs": [],
   "source": [
    "data_sets=data_frames_creation(file_paths)"
   ]
  },
  {
   "cell_type": "code",
   "execution_count": null,
   "metadata": {},
   "outputs": [],
   "source": [
    "print(len(data_sets))\n",
    "data_sets[0]"
   ]
  },
  {
   "cell_type": "code",
   "execution_count": null,
   "metadata": {},
   "outputs": [],
   "source": [
    "#def line_plots(cols,data,i):\n",
    "    #plt.figure(figsize=(15,6))\n",
    "    #plt.title('Time Distribution of '+cols)\n",
    "    #plt.plot(data['Time'],data[cols],color='#E9967A')\n",
    "    #plt.suptitle('Data Point' + str (i))"
   ]
  },
  {
   "cell_type": "code",
   "execution_count": null,
   "metadata": {},
   "outputs": [],
   "source": [
    "data_sets[5].columns[1:]"
   ]
  },
  {
   "cell_type": "markdown",
   "metadata": {},
   "source": [
    "### Visualization Functions"
   ]
  },
  {
   "cell_type": "code",
   "execution_count": null,
   "metadata": {},
   "outputs": [],
   "source": [
    "def single_point_visula(cols,data):\n",
    "    plt.figure(figsize=(11,2))\n",
    "    plt.title('Currents Amplitude Vs Time of '+cols)\n",
    "    plt.plot(data['Time'],data[cols],color='#0FE279')\n",
    "    plt.xlabel('Time', fontsize=8)\n",
    "    plt.ylabel('Current (amp)', fontsize=7)"
   ]
  },
  {
   "cell_type": "code",
   "execution_count": null,
   "metadata": {},
   "outputs": [],
   "source": [
    "def box_plots(data,b):\n",
    "    plt.figure(figsize=(11,3))\n",
    "    plt.title('Distribution of Data Point '+ str (b))\n",
    "    sns.boxplot(data=data,color='#B0FC21')\n",
    "    plt.xlabel('Phases', fontsize=9)\n",
    "    plt.ylabel('Current (amp)', fontsize=10)"
   ]
  },
  {
   "cell_type": "markdown",
   "metadata": {},
   "source": [
    "##### Change the number in `Data_sets` to see single point visualization"
   ]
  },
  {
   "cell_type": "code",
   "execution_count": null,
   "metadata": {},
   "outputs": [],
   "source": [
    "data_sets[0]"
   ]
  },
  {
   "cell_type": "code",
   "execution_count": null,
   "metadata": {},
   "outputs": [],
   "source": [
    "data_sets[0].columns[1:]"
   ]
  },
  {
   "cell_type": "code",
   "execution_count": null,
   "metadata": {},
   "outputs": [],
   "source": [
    "for cols in data_sets[9].columns[1:]:\n",
    "    single_point_visula(cols,data_sets[9])"
   ]
  },
  {
   "cell_type": "code",
   "execution_count": null,
   "metadata": {},
   "outputs": [],
   "source": [
    "for cols in data_sets[19].columns[1:]:\n",
    "    single_point_visula(cols,data_sets[19])"
   ]
  },
  {
   "cell_type": "markdown",
   "metadata": {},
   "source": [
    "The above Figure Shows cable failure in phase `A`"
   ]
  },
  {
   "cell_type": "markdown",
   "metadata": {},
   "source": [
    "The above Figure Shows cable failure in phase `C`"
   ]
  },
  {
   "cell_type": "code",
   "execution_count": null,
   "metadata": {},
   "outputs": [],
   "source": [
    "for cols in data_sets[89].columns[1:]:\n",
    "    single_point_visula(cols,data_sets[89])"
   ]
  },
  {
   "cell_type": "markdown",
   "metadata": {},
   "source": [
    "The above Figure Shows cable failure in phase `A`"
   ]
  },
  {
   "cell_type": "code",
   "execution_count": null,
   "metadata": {},
   "outputs": [],
   "source": [
    "for cols in data_sets[340].columns[1:]:\n",
    "    single_point_visula(cols,data_sets[340])"
   ]
  },
  {
   "cell_type": "markdown",
   "metadata": {},
   "source": [
    "The above Figure Shows cable failure in phase `A, B and C`"
   ]
  },
  {
   "cell_type": "code",
   "execution_count": null,
   "metadata": {},
   "outputs": [],
   "source": [
    "for b in range(len(data_sets)):\n",
    "    box_plots(data_sets[b].iloc[:,1:],b)"
   ]
  },
  {
   "cell_type": "code",
   "execution_count": null,
   "metadata": {},
   "outputs": [],
   "source": [
    "box_plots(data_sets[9].iloc[:,1:],9)\n",
    "box_plots(data_sets[19].iloc[:,1:],19)\n",
    "box_plots(data_sets[89].iloc[:,1:],89)\n",
    "box_plots(data_sets[340].iloc[:,1:],340)"
   ]
  },
  {
   "cell_type": "code",
   "execution_count": null,
   "metadata": {},
   "outputs": [],
   "source": [
    "#fig,ax=plt.subplots(nrows=1,ncols=2,figsize=(15,5))\n",
    "#sns.boxplot(data=temp[90].iloc[:,1:],ax=ax[0],palette='rocket')\n",
    "#ax[0].set_title('Box Plots')\n",
    "#ax[1].plot(temp[90]['Time'],temp[90].iloc[:,1])\n",
    "#ax[1].plot(temp[90]['Time'],temp[90].iloc[:,2])\n",
    "#ax[1].plot(temp[90]['Time'],temp[90].iloc[:,3])\n",
    "#ax[1].plot(temp[90]['Time'],temp[90].iloc[:,4])\n",
    "#ax[1].set_title('Line Plots')\n",
    "#plt.savefig('Label_values.png')"
   ]
  },
  {
   "cell_type": "markdown",
   "metadata": {},
   "source": [
    "## Feature Engineering "
   ]
  },
  {
   "cell_type": "code",
   "execution_count": null,
   "metadata": {},
   "outputs": [],
   "source": [
    "data_sets[0]"
   ]
  },
  {
   "cell_type": "code",
   "execution_count": null,
   "metadata": {},
   "outputs": [],
   "source": [
    "engin_df=pd.read_csv('eng_features.csv')\n",
    "engin_df"
   ]
  },
  {
   "cell_type": "code",
   "execution_count": null,
   "metadata": {},
   "outputs": [],
   "source": [
    "engineered_feat=engin_df.drop(['Fault ID','Data Length'],axis=1)\n",
    "engineered_feat"
   ]
  },
  {
   "cell_type": "markdown",
   "metadata": {},
   "source": [
    "## Feature Extraction"
   ]
  },
  {
   "cell_type": "markdown",
   "metadata": {},
   "source": [
    "###### Importing Library"
   ]
  },
  {
   "cell_type": "code",
   "execution_count": null,
   "metadata": {},
   "outputs": [],
   "source": [
    "import tsfel"
   ]
  },
  {
   "cell_type": "code",
   "execution_count": null,
   "metadata": {},
   "outputs": [],
   "source": [
    "data_sets[10].iloc[:,1:]"
   ]
  },
  {
   "cell_type": "markdown",
   "metadata": {},
   "source": [
    "### Feature Extraction process"
   ]
  },
  {
   "cell_type": "markdown",
   "metadata": {},
   "source": [
    "#### `Spectral Feature Extraction`"
   ]
  },
  {
   "cell_type": "code",
   "execution_count": null,
   "metadata": {},
   "outputs": [],
   "source": [
    "len(data_sets[0].columns)"
   ]
  },
  {
   "cell_type": "code",
   "execution_count": null,
   "metadata": {},
   "outputs": [],
   "source": [
    "tsfel_features_spectral=[]\n",
    "for j in range (0,len(data_sets)):\n",
    "    for k in range (1,len(data_sets[j].columns)):\n",
    "        tsfel_initialization_s = tsfel.get_features_by_domain('spectral')\n",
    "        extracted = tsfel.time_series_features_extractor(tsfel_initialization_s, data_sets[j].iloc[:,k], fs=1000)\n",
    "        tsfel_features_spectral.append(extracted)"
   ]
  },
  {
   "cell_type": "code",
   "execution_count": null,
   "metadata": {},
   "outputs": [],
   "source": [
    "len(tsfel_features_spectral)"
   ]
  },
  {
   "cell_type": "code",
   "execution_count": null,
   "metadata": {},
   "outputs": [],
   "source": [
    "343*4"
   ]
  },
  {
   "cell_type": "code",
   "execution_count": null,
   "metadata": {},
   "outputs": [],
   "source": [
    "tsfel_features_spectral[0]"
   ]
  },
  {
   "cell_type": "code",
   "execution_count": null,
   "metadata": {},
   "outputs": [],
   "source": [
    "for m in range (0, len(tsfel_features_spectral)):\n",
    "    spectral_df=pd.concat(tsfel_features_spectral)"
   ]
  },
  {
   "cell_type": "code",
   "execution_count": null,
   "metadata": {},
   "outputs": [],
   "source": [
    "spectral_df"
   ]
  },
  {
   "cell_type": "markdown",
   "metadata": {},
   "source": [
    "###### Reset Index"
   ]
  },
  {
   "cell_type": "code",
   "execution_count": null,
   "metadata": {},
   "outputs": [],
   "source": [
    "spectral_df=spectral_df.reset_index(drop=True)"
   ]
  },
  {
   "cell_type": "code",
   "execution_count": null,
   "metadata": {},
   "outputs": [],
   "source": [
    "spectral_df"
   ]
  },
  {
   "cell_type": "markdown",
   "metadata": {},
   "source": [
    "##### Cross-Check of Extracted Features Value\n",
    "`Whether Feature Extraction Values are Correct or Not`"
   ]
  },
  {
   "cell_type": "code",
   "execution_count": null,
   "metadata": {},
   "outputs": [],
   "source": [
    "tsfel_initialization_spectral = tsfel.get_features_by_domain('spectral')\n",
    "tsfel_initialization_temporal = tsfel.get_features_by_domain('temporal')\n",
    "tsfel_initialization_statistical = tsfel.get_features_by_domain('statistical')"
   ]
  },
  {
   "cell_type": "code",
   "execution_count": null,
   "metadata": {},
   "outputs": [],
   "source": [
    "extracted_2_spectral = tsfel.time_series_features_extractor(tsfel_initialization_spectral, data_sets[1].iloc[:,1], fs=1000)"
   ]
  },
  {
   "cell_type": "code",
   "execution_count": null,
   "metadata": {},
   "outputs": [],
   "source": [
    "extracted_2_spectral"
   ]
  },
  {
   "cell_type": "markdown",
   "metadata": {},
   "source": [
    "#### Concetanation with the Featured Engineered DataFrame"
   ]
  },
  {
   "cell_type": "code",
   "execution_count": null,
   "metadata": {},
   "outputs": [],
   "source": [
    "data_sets[22]"
   ]
  },
  {
   "cell_type": "code",
   "execution_count": null,
   "metadata": {},
   "outputs": [],
   "source": [
    "engineered_feat"
   ]
  },
  {
   "cell_type": "code",
   "execution_count": null,
   "metadata": {},
   "outputs": [],
   "source": [
    "spectral_eng_df=pd.concat([engineered_feat,spectral_df],axis=1)"
   ]
  },
  {
   "cell_type": "code",
   "execution_count": null,
   "metadata": {},
   "outputs": [],
   "source": [
    "spectral_eng_df"
   ]
  },
  {
   "cell_type": "markdown",
   "metadata": {},
   "source": [
    "###### Unique Values Check"
   ]
  },
  {
   "cell_type": "code",
   "execution_count": null,
   "metadata": {},
   "outputs": [],
   "source": [
    "one_unique=[]\n",
    "def one_unique_value_check(data,col):\n",
    "    value=len(data[col].unique())\n",
    "    if value==1:\n",
    "        one_unique.append(col)\n",
    "for col in spectral_eng_df.columns:\n",
    "    one_unique_value_check(spectral_eng_df,col)"
   ]
  },
  {
   "cell_type": "code",
   "execution_count": null,
   "metadata": {},
   "outputs": [],
   "source": [
    "one_unique"
   ]
  },
  {
   "cell_type": "markdown",
   "metadata": {},
   "source": [
    "#### Encoding"
   ]
  },
  {
   "cell_type": "code",
   "execution_count": null,
   "metadata": {},
   "outputs": [],
   "source": [
    "cat_cols=spectral_eng_df.select_dtypes(include=['object']).columns"
   ]
  },
  {
   "cell_type": "code",
   "execution_count": null,
   "metadata": {},
   "outputs": [],
   "source": [
    "cat_cols"
   ]
  },
  {
   "cell_type": "code",
   "execution_count": null,
   "metadata": {},
   "outputs": [],
   "source": [
    "import category_encoders as ce\n",
    "\n",
    "encoder = ce.OrdinalEncoder(cols=cat_cols,handle_missing='return_nan',return_df= True)\n",
    "\n",
    "spectral_eng_df=encoder.fit_transform(spectral_eng_df)"
   ]
  },
  {
   "cell_type": "code",
   "execution_count": null,
   "metadata": {},
   "outputs": [],
   "source": [
    "spectral_eng_df"
   ]
  },
  {
   "cell_type": "code",
   "execution_count": null,
   "metadata": {},
   "outputs": [],
   "source": [
    "spectral_eng_df['Phase'].unique()"
   ]
  },
  {
   "cell_type": "code",
   "execution_count": null,
   "metadata": {},
   "outputs": [],
   "source": [
    "fea_col_names_spec=spectral_eng_df.columns\n",
    "fea_col_names_spec"
   ]
  },
  {
   "cell_type": "markdown",
   "metadata": {},
   "source": [
    "#### Clustering Analysis Based on PCA"
   ]
  },
  {
   "cell_type": "code",
   "execution_count": null,
   "metadata": {},
   "outputs": [],
   "source": [
    "#### Standard Scaling\n",
    "from sklearn.preprocessing import StandardScaler\n",
    "standard_scaler=StandardScaler()\n",
    "SS_Norm=pd.DataFrame(standard_scaler.fit_transform(spectral_eng_df))\n",
    "SS_Norm.columns=fea_col_names_spec"
   ]
  },
  {
   "cell_type": "code",
   "execution_count": null,
   "metadata": {},
   "outputs": [],
   "source": [
    "SS_Norm.head()"
   ]
  },
  {
   "cell_type": "code",
   "execution_count": null,
   "metadata": {},
   "outputs": [],
   "source": [
    "#from sklearn.preprocessing import Normalizer\n",
    "#scaler_1=Normalizer()\n",
    "#normalized_spectral=pd.DataFrame(scaler_1.fit_transform(final_df))\n",
    "#normalized_spectral.columns=fea_col_names_spec"
   ]
  },
  {
   "cell_type": "code",
   "execution_count": null,
   "metadata": {},
   "outputs": [],
   "source": [
    "#normalized_spectral"
   ]
  },
  {
   "cell_type": "markdown",
   "metadata": {},
   "source": [
    "###### `Feature Selection Based on PCA`"
   ]
  },
  {
   "cell_type": "code",
   "execution_count": null,
   "metadata": {},
   "outputs": [],
   "source": [
    "from sklearn.decomposition import PCA\n",
    "P_C_A_s = PCA(n_components=15)\n",
    "p_c_a_output_s = P_C_A_s.fit_transform(SS_Norm)\n",
    "p_c_a_output_s"
   ]
  },
  {
   "cell_type": "code",
   "execution_count": null,
   "metadata": {},
   "outputs": [],
   "source": [
    "P_C_A_s.n_components_"
   ]
  },
  {
   "cell_type": "code",
   "execution_count": null,
   "metadata": {},
   "outputs": [],
   "source": [
    "PCA_components_s = pd.DataFrame(p_c_a_output_s)\n",
    "PCA_components_s"
   ]
  },
  {
   "cell_type": "code",
   "execution_count": null,
   "metadata": {},
   "outputs": [],
   "source": [
    "PCA_components_s.shape"
   ]
  },
  {
   "cell_type": "markdown",
   "metadata": {},
   "source": [
    "###### K-Means Clustering with Elbow Method on 25 PCA  components (Spectral Domain)"
   ]
  },
  {
   "cell_type": "code",
   "execution_count": null,
   "metadata": {},
   "outputs": [],
   "source": [
    "np.random.seed(43)\n",
    "from sklearn.cluster import KMeans\n",
    "\n",
    "kmeans_models_s = [KMeans(n_clusters=k).fit(PCA_components_s) for k in range (1, 10)]\n",
    "innertia_s = [model.inertia_ for model in kmeans_models_s]\n",
    "\n",
    "plt.plot(range(1, 10), innertia_s,'-o',color='#015750')\n",
    "plt.title('Elbow method')\n",
    "plt.xlabel('Number of Clusters')\n",
    "plt.ylabel('Model Inertia')\n",
    "plt.savefig('Elbow_kmeans.png')\n",
    "plt.show()"
   ]
  },
  {
   "cell_type": "markdown",
   "metadata": {},
   "source": [
    "###### Silhouette score"
   ]
  },
  {
   "cell_type": "markdown",
   "metadata": {},
   "source": [
    "Silhouette score is used to evaluate the quality of clusters created using clustering algorithms such as K-Means in terms of how well samples are clustered with other samples that are similar to each other. \n",
    "\n",
    "The silhouette score of 1 means that the clusters are very dense and nicely separated. The score of 0 means that clusters are overlapping. The score of less than 0 means that data belonging to clusters may be wrong/incorrect.\n",
    "\n",
    "The silhouette plots can be used to select the most optimal value of the K (no. of cluster) in K-means clustering.\n",
    "\n",
    "\n",
    "The aspects to look out for in Silhouette plots are cluster scores below the average silhouette score, wide fluctuations in the size of the clusters, and also the thickness of the silhouette plot."
   ]
  },
  {
   "cell_type": "code",
   "execution_count": null,
   "metadata": {},
   "outputs": [],
   "source": [
    "np.random.seed(40)\n",
    "from sklearn.metrics import silhouette_score\n",
    "\n",
    "silhoutte_scores_s = [silhouette_score(PCA_components_s, model.labels_) for model in kmeans_models_s[1:10]]\n",
    "plt.plot(range(2,10), silhoutte_scores_s, \"bo-\",color='#014257')\n",
    "plt.xticks([2, 3, 4, 5,6,7,8,9])\n",
    "plt.title('Silhouette scores vs Number of clusters')\n",
    "plt.xlabel('Number of clusters')\n",
    "plt.ylabel('Silhoutte score')\n",
    "plt.savefig('Silhoutte_score_kmeans.png')\n",
    "plt.show()\n"
   ]
  },
  {
   "cell_type": "markdown",
   "metadata": {},
   "source": [
    "#### Silhoutte Analysis For K-Menas\n"
   ]
  },
  {
   "cell_type": "code",
   "execution_count": null,
   "metadata": {},
   "outputs": [],
   "source": [
    "##`https://github.com/krishnaik06/Silhouette-clustering-/blob/master/Untitled.ipynb`"
   ]
  },
  {
   "cell_type": "code",
   "execution_count": null,
   "metadata": {},
   "outputs": [],
   "source": [
    "from sklearn.metrics import silhouette_samples\n",
    "import matplotlib.cm as cm\n",
    "range_n_clusters = [2, 3, 4, 5, 6]\n",
    "for n_clusters in range_n_clusters:\n",
    "    # Create a subplot with 1 row and 2 columns\n",
    "    fig, (ax1, ax2) = plt.subplots(1, 2)\n",
    "    fig.set_size_inches(18, 7)\n",
    "\n",
    "    # The 1st subplot is the silhouette plot\n",
    "    # The silhouette coefficient can range from -1, 1 but in this example all\n",
    "    # lie within [-0.1, 1]\n",
    "    ax1.set_xlim([-0.1, 1])\n",
    "    # The (n_clusters+1)*10 is for inserting blank space between silhouette\n",
    "    # plots of individual clusters, to demarcate them clearly.\n",
    "    ax1.set_ylim([0, len(PCA_components_s) + (n_clusters + 1) * 10])\n",
    "\n",
    "    # Initialize the clusterer with n_clusters value and a random generator\n",
    "    # seed of 10 for reproducibility.\n",
    "    clusterer = KMeans(n_clusters=n_clusters, random_state=10)\n",
    "    cluster_labelss = clusterer.fit_predict(PCA_components_s)\n",
    "\n",
    "    # The silhouette_score gives the average value for all the samples.\n",
    "    # This gives a perspective into the density and separation of the formed\n",
    "    # clusters\n",
    "    silhouette_avg = silhouette_score(PCA_components_s, cluster_labelss)\n",
    "    print(\"For n_clusters =\", n_clusters,\n",
    "          \"The average silhouette_score is :\", silhouette_avg)\n",
    "\n",
    "    # Compute the silhouette scores for each sample\n",
    "    sample_silhouette_values = silhouette_samples(PCA_components_s, cluster_labelss)\n",
    "\n",
    "    y_lower = 10\n",
    "    for i in range(n_clusters):\n",
    "        # Aggregate the silhouette scores for samples belonging to\n",
    "        # cluster i, and sort them\n",
    "        ith_cluster_silhouette_values = \\\n",
    "            sample_silhouette_values[cluster_labelss == i]\n",
    "\n",
    "        ith_cluster_silhouette_values.sort()\n",
    "\n",
    "        size_cluster_i = ith_cluster_silhouette_values.shape[0]\n",
    "        y_upper = y_lower + size_cluster_i\n",
    "\n",
    "        color = cm.nipy_spectral(float(i) / n_clusters)\n",
    "        ax1.fill_betweenx(np.arange(y_lower, y_upper),\n",
    "                          0, ith_cluster_silhouette_values,\n",
    "                          facecolor=color, edgecolor=color, alpha=0.7)\n",
    "\n",
    "        # Label the silhouette plots with their cluster numbers at the middle\n",
    "        ax1.text(-0.05, y_lower + 0.5 * size_cluster_i, str(i))\n",
    "\n",
    "        # Compute the new y_lower for next plot\n",
    "        y_lower = y_upper + 10  # 10 for the 0 samples\n",
    "\n",
    "    ax1.set_title(\"The silhouette plot for the various clusters.\")\n",
    "    ax1.set_xlabel(\"The silhouette coefficient values\")\n",
    "    ax1.set_ylabel(\"Cluster label\")\n",
    "\n",
    "    # The vertical line for average silhouette score of all the values\n",
    "    ax1.axvline(x=silhouette_avg, color=\"red\", linestyle=\"--\")\n",
    "\n",
    "    ax1.set_yticks([])  # Clear the yaxis labels / ticks\n",
    "    ax1.set_xticks([-0.1, 0, 0.2, 0.4, 0.6, 0.8, 1])\n",
    "    # 2nd Plot showing the actual clusters formed\n",
    "    colors = cm.nipy_spectral(cluster_labelss.astype(float) / n_clusters)\n",
    "    ax2.scatter(PCA_components_s.iloc[:, 0], PCA_components_s.iloc[:, 1], marker='.', s=30, lw=0, alpha=0.7,\n",
    "                c=colors, edgecolor='k')\n",
    "\n",
    "    # Labeling the clusters\n",
    "    centers = clusterer.cluster_centers_\n",
    "    # Draw white circles at cluster centers\n",
    "    ax2.scatter(centers[:, 0], centers[:, 1], marker='o',\n",
    "                c=\"white\", alpha=1, s=200, edgecolor='k')\n",
    "\n",
    "    for i, c in enumerate(centers):\n",
    "        ax2.scatter(c[0], c[1], marker='$%d$' % i, alpha=1,\n",
    "                    s=50, edgecolor='k')\n",
    "\n",
    "    ax2.set_title(\"The visualization of the clustered data.\")\n",
    "    ax2.set_xlabel(\"Feature space for the 1st feature\")\n",
    "    ax2.set_ylabel(\"Feature space for the 2nd feature\")\n",
    "\n",
    "    plt.suptitle((\"Silhouette analysis for KMeans clustering \"\n",
    "                  \"with n_clusters = %d\" % n_clusters),\n",
    "                 fontsize=14, fontweight='bold')\n",
    "    plt.savefig(str(n_clusters)+'.png')\n",
    "plt.show()\n",
    "###### Scikit-learn: Machine Learning in Python, Pedregosa et al., JMLR 12, pp. 2825-2830, 2011."
   ]
  },
  {
   "cell_type": "markdown",
   "metadata": {},
   "source": [
    "###### `Note` From the above Figures it can be seen that the ideal number of clusters are 2"
   ]
  },
  {
   "cell_type": "code",
   "execution_count": null,
   "metadata": {},
   "outputs": [],
   "source": [
    "###### I am now going to plot components with explained variance ration and will visualize the dropoff point of variance."
   ]
  },
  {
   "cell_type": "code",
   "execution_count": null,
   "metadata": {},
   "outputs": [],
   "source": [
    "P_C_A_s.explained_variance_ratio_"
   ]
  },
  {
   "cell_type": "code",
   "execution_count": null,
   "metadata": {},
   "outputs": [],
   "source": [
    "features_s = range(P_C_A_s.n_components_)\n",
    "plt.figure(figsize=(13,4))\n",
    "plt.bar(features_s, P_C_A_s.explained_variance_ratio_, color='#0BAAA5')\n",
    "plt.xlabel('PCA features')\n",
    "plt.ylabel('variance %')\n",
    "plt.xticks(features_s)\n",
    "plt.title('Distribution of variance vs PCA dimensions');\n",
    "plt.savefig('PCA_Visualization.png')"
   ]
  },
  {
   "cell_type": "code",
   "execution_count": null,
   "metadata": {},
   "outputs": [],
   "source": [
    "#### silhouette_score when Cluster= 2\n",
    "np.random.seed(40)\n",
    "from sklearn.metrics import silhouette_score\n",
    "\n",
    "clustering_spectral = KMeans(n_clusters=2)\n",
    "clustering_spectral.fit(PCA_components_s)\n",
    "\n",
    "print('Silhoutte score of K-Mean clustering is ' + str(silhouette_score(PCA_components_s, clustering_spectral.labels_)))"
   ]
  },
  {
   "cell_type": "code",
   "execution_count": null,
   "metadata": {},
   "outputs": [],
   "source": [
    "np.random.seed(9)\n",
    "spectral_labels=clustering_spectral.labels_\n",
    "spectral_labels"
   ]
  },
  {
   "cell_type": "code",
   "execution_count": null,
   "metadata": {},
   "outputs": [],
   "source": [
    "spectral_final = pd.concat([PCA_components_s, pd.DataFrame({'pca_clusters':spectral_labels})], axis=1)\n",
    "spectral_final"
   ]
  },
  {
   "cell_type": "code",
   "execution_count": null,
   "metadata": {},
   "outputs": [],
   "source": [
    "spectral_final['pca_clusters'].value_counts()"
   ]
  },
  {
   "cell_type": "code",
   "execution_count": null,
   "metadata": {},
   "outputs": [],
   "source": [
    "##### Clustering with all Feature (All engineered Features)\n",
    "#### When Cluster Number are 2\n",
    "\n",
    "import seaborn as sns\n",
    "plt.figure(figsize = (17,7))\n",
    "sns.scatterplot(spectral_final.iloc[:,0],spectral_final.iloc[:,1], hue=spectral_final['pca_clusters'], palette='viridis', s=70, alpha=0.8).set_title('Distribution of cluster based on Spectral Domain Features (PCA)',fontsize=13)\n",
    "plt.legend()\n",
    "#plt.savefig('Cluster_pCA_1_and_3')\n",
    "plt.show()"
   ]
  },
  {
   "cell_type": "markdown",
   "metadata": {},
   "source": [
    "###### `********************************************************************************************************************`"
   ]
  },
  {
   "cell_type": "markdown",
   "metadata": {},
   "source": [
    "#### TEN principal Components"
   ]
  },
  {
   "cell_type": "code",
   "execution_count": null,
   "metadata": {},
   "outputs": [],
   "source": [
    "ten_components=PCA_components_s.iloc[:,0:10]"
   ]
  },
  {
   "cell_type": "code",
   "execution_count": null,
   "metadata": {},
   "outputs": [],
   "source": [
    "ten_components.to_csv('Ten_com_clustering.csv',index=False)"
   ]
  },
  {
   "cell_type": "code",
   "execution_count": null,
   "metadata": {},
   "outputs": [],
   "source": [
    "ten_components.tail()"
   ]
  },
  {
   "cell_type": "code",
   "execution_count": null,
   "metadata": {},
   "outputs": [],
   "source": [
    "np.random.seed(43)\n",
    "from sklearn.cluster import KMeans\n",
    "\n",
    "kmeans_models_ten_com = [KMeans(n_clusters=k).fit(ten_components) for k in range (1, 10)]\n",
    "innertia_ten_com = [model.inertia_ for model in kmeans_models_ten_com]\n",
    "\n",
    "plt.plot(range(1, 10), innertia_ten_com,'-o',color='#783654')\n",
    "plt.title('Elbow method')\n",
    "plt.xlabel('Number of Clusters')\n",
    "plt.ylabel('Model Inertia')\n",
    "plt.show()\n",
    "plt.savefig('Elbow_1.png');"
   ]
  },
  {
   "cell_type": "code",
   "execution_count": null,
   "metadata": {},
   "outputs": [],
   "source": [
    "np.random.seed(40)\n",
    "from sklearn.metrics import silhouette_score\n",
    "\n",
    "silhoutte_scores_ten_com = [silhouette_score(ten_components, model.labels_) for model in kmeans_models_ten_com[1:10]]\n",
    "plt.plot(range(2,10), silhoutte_scores_ten_com, \"bo-\",color='#857376')\n",
    "plt.xticks([2, 3, 4, 5,6,7,8,9])\n",
    "plt.title('Silhouette scores vs Number of clusters')\n",
    "plt.xlabel('Number of clusters')\n",
    "plt.ylabel('Silhoutte score')\n",
    "\n",
    "plt.show()\n",
    "plt.savefig('Silhoutte_score.png')"
   ]
  },
  {
   "cell_type": "code",
   "execution_count": null,
   "metadata": {},
   "outputs": [],
   "source": [
    "np.random.seed(40)\n",
    "from sklearn.metrics import silhouette_score\n",
    "\n",
    "clustering_spectral_ten_com = KMeans(n_clusters=2)\n",
    "clustering_spectral_ten_com.fit(ten_components)\n",
    "\n",
    "print('Silhoutte score of K-Mean clustering is ' + str(silhouette_score(ten_components, clustering_spectral_ten_com.labels_)))"
   ]
  },
  {
   "cell_type": "code",
   "execution_count": null,
   "metadata": {},
   "outputs": [],
   "source": [
    "np.random.seed(9)\n",
    "spectral_labels_ten_com=clustering_spectral_ten_com.labels_\n",
    "spectral_labels_ten_com"
   ]
  },
  {
   "cell_type": "code",
   "execution_count": null,
   "metadata": {},
   "outputs": [],
   "source": [
    "spectral_res_ten_com = pd.concat([ten_components, pd.DataFrame({'pca_clusters':spectral_labels_ten_com})], axis=1)\n",
    "spectral_res_ten_com.sample(3)"
   ]
  },
  {
   "cell_type": "code",
   "execution_count": null,
   "metadata": {},
   "outputs": [],
   "source": [
    "spectral_res_ten_com['pca_clusters'].value_counts()"
   ]
  },
  {
   "cell_type": "code",
   "execution_count": null,
   "metadata": {},
   "outputs": [],
   "source": [
    "##### Clustering with all Feature (All engineered Features)\n",
    "#### When Cluster Number are 2\n",
    "\n",
    "import seaborn as sns\n",
    "plt.figure(figsize = (17,7))\n",
    "sns.scatterplot(spectral_res_ten_com.iloc[:,0],spectral_res_ten_com.iloc[:,3], hue=spectral_res_ten_com['pca_clusters'], palette='dark:salmon_r', s=70, alpha=0.9).set_title('Cluster distribution based on K-means',fontsize=13)\n",
    "plt.legend()\n",
    "plt.xlabel('1st PCA')\n",
    "plt.ylabel('4th  PCA')\n",
    "\n",
    "plt.savefig('Cluster_pCA_1_and_4')\n",
    "plt.show()"
   ]
  },
  {
   "cell_type": "markdown",
   "metadata": {},
   "source": [
    "###### `********************************************************************************************************************`"
   ]
  },
  {
   "cell_type": "markdown",
   "metadata": {},
   "source": [
    "## Predicted Failure Verification"
   ]
  },
  {
   "cell_type": "code",
   "execution_count": null,
   "metadata": {},
   "outputs": [],
   "source": [
    "#labels_df=pd.read_csv('labels.csv')\n",
    "#labels_df"
   ]
  },
  {
   "cell_type": "code",
   "execution_count": null,
   "metadata": {},
   "outputs": [],
   "source": [
    "#labels_df['fault_status'].value_counts()"
   ]
  },
  {
   "cell_type": "code",
   "execution_count": null,
   "metadata": {},
   "outputs": [],
   "source": [
    "spectral_res_ten_com"
   ]
  },
  {
   "cell_type": "code",
   "execution_count": null,
   "metadata": {},
   "outputs": [],
   "source": [
    "spectral_res_ten_com['pca_clusters'].value_counts()"
   ]
  },
  {
   "cell_type": "code",
   "execution_count": null,
   "metadata": {},
   "outputs": [],
   "source": [
    "predicted_good=spectral_res_ten_com[spectral_res_ten_com['pca_clusters']==0]"
   ]
  },
  {
   "cell_type": "code",
   "execution_count": null,
   "metadata": {},
   "outputs": [],
   "source": [
    "predicted_failure=spectral_res_ten_com[spectral_res_ten_com['pca_clusters']==1]"
   ]
  },
  {
   "cell_type": "code",
   "execution_count": null,
   "metadata": {},
   "outputs": [],
   "source": [
    "predicted_failure"
   ]
  },
  {
   "cell_type": "code",
   "execution_count": null,
   "metadata": {},
   "outputs": [],
   "source": [
    "len(predicted_failure)"
   ]
  },
  {
   "cell_type": "code",
   "execution_count": null,
   "metadata": {},
   "outputs": [],
   "source": [
    "predicted_failure_index=predicted_failure.index"
   ]
  },
  {
   "cell_type": "code",
   "execution_count": null,
   "metadata": {},
   "outputs": [],
   "source": [
    "predicted_failure_index"
   ]
  },
  {
   "cell_type": "code",
   "execution_count": null,
   "metadata": {},
   "outputs": [],
   "source": [
    "#actual_failure=labels_df[labels_df['fault_status']=='faulty']"
   ]
  },
  {
   "cell_type": "code",
   "execution_count": null,
   "metadata": {},
   "outputs": [],
   "source": [
    "predicted_failure"
   ]
  },
  {
   "cell_type": "code",
   "execution_count": null,
   "metadata": {},
   "outputs": [],
   "source": [
    "#actual_failure_index=actual_failure.index"
   ]
  },
  {
   "cell_type": "code",
   "execution_count": null,
   "metadata": {},
   "outputs": [],
   "source": [
    "#actual_failure_index"
   ]
  },
  {
   "cell_type": "code",
   "execution_count": null,
   "metadata": {},
   "outputs": [],
   "source": [
    "#common_errors=list(set(actual_failure_index).intersection(predicted_failure_index))"
   ]
  },
  {
   "cell_type": "code",
   "execution_count": null,
   "metadata": {},
   "outputs": [],
   "source": [
    "#len(common_errors)"
   ]
  },
  {
   "cell_type": "code",
   "execution_count": null,
   "metadata": {},
   "outputs": [],
   "source": [
    "import seaborn as sns\n",
    "plt.figure(figsize = (17,7))\n",
    "sns.scatterplot(predicted_failure.iloc[:,0],predicted_failure.iloc[:,1], color='#024460', s=70, alpha=0.8).set_title('Only Predicted Failure cluster based on distance-based clustering',fontsize=13)\n",
    "plt.legend(labels=['Predicted Failure Cluster only (Assumption)'],)\n",
    "plt.xlabel('First Principal Component')\n",
    "plt.ylabel('2nd Principal Component')\n",
    "\n",
    "plt.savefig('failure_only_K_means')\n",
    "plt.show()"
   ]
  },
  {
   "cell_type": "code",
   "execution_count": null,
   "metadata": {},
   "outputs": [],
   "source": [
    "#errors_sort=sorted(common_errors)\n",
    "#errors_sort"
   ]
  },
  {
   "cell_type": "code",
   "execution_count": null,
   "metadata": {},
   "outputs": [],
   "source": [
    "engin_df.head()"
   ]
  },
  {
   "cell_type": "code",
   "execution_count": null,
   "metadata": {},
   "outputs": [],
   "source": [
    "predicted_failure_index"
   ]
  },
  {
   "cell_type": "code",
   "execution_count": null,
   "metadata": {},
   "outputs": [],
   "source": [
    "Faulty_pred_ids=[]\n",
    "for i in predicted_failure_index:\n",
    "    Faulty_pred_ids.append(engin_df.loc[i])\n",
    "Faulty_pred_ids=pd.DataFrame(Faulty_pred_ids)"
   ]
  },
  {
   "cell_type": "code",
   "execution_count": null,
   "metadata": {},
   "outputs": [],
   "source": [
    "Faulty_pred_ids"
   ]
  },
  {
   "cell_type": "code",
   "execution_count": null,
   "metadata": {},
   "outputs": [],
   "source": [
    "Faulty_pred_ids['Phase'].unique()"
   ]
  },
  {
   "cell_type": "code",
   "execution_count": null,
   "metadata": {},
   "outputs": [],
   "source": [
    "import os\n",
    "def getPath(file_id, file_type):\n",
    "    response = ''\n",
    "    directory = \"C:\\\\Users\\\\Mahnoor Saeed\\\\Dissertation_Notebook\\\\cable_failure_dataset\\\\DAT_Files\"\n",
    "    if file_type == 2:\n",
    "        directory = \"C:\\\\Users\\\\Mahnoor Saeed\\\\Dissertation_Notebook\\\\cable_failure_dataset\\\\CFG_FILES\"\n",
    "    for path in os.listdir(directory):\n",
    "        full_path = os.path.join(directory, path)\n",
    "        if os.path.isfile(full_path):\n",
    "            if str(file_id) in full_path:\n",
    "                response = full_path\n",
    "    return response"
   ]
  },
  {
   "cell_type": "code",
   "execution_count": null,
   "metadata": {},
   "outputs": [],
   "source": [
    "failure_paths=[]\n",
    "for index, row in Faulty_pred_ids.iterrows():\n",
    "    dAT_path = getPath(row['Fault ID'], 1)\n",
    "    CFG_Path = getPath(row['Fault ID'], 2)\n",
    "    failure_paths.append([CFG_Path, dAT_path])"
   ]
  },
  {
   "cell_type": "code",
   "execution_count": null,
   "metadata": {},
   "outputs": [],
   "source": [
    "len(failure_paths)"
   ]
  },
  {
   "cell_type": "code",
   "execution_count": null,
   "metadata": {},
   "outputs": [],
   "source": [
    "faulty_phases=[]\n",
    "for index, row in Faulty_pred_ids.iterrows():\n",
    "    faulty_phases.append(row['Phase'])"
   ]
  },
  {
   "cell_type": "code",
   "execution_count": null,
   "metadata": {},
   "outputs": [],
   "source": [
    "data_sets_fal=data_frames_creation(failure_paths)"
   ]
  },
  {
   "cell_type": "code",
   "execution_count": null,
   "metadata": {},
   "outputs": [],
   "source": [
    "len(data_sets_fal)"
   ]
  },
  {
   "cell_type": "code",
   "execution_count": null,
   "metadata": {},
   "outputs": [],
   "source": [
    "col_names=[ 'MPI3p1:I A', 'MPI3p1:I B', 'MPI3p1:I C', 'MPI3p1:IN']"
   ]
  },
  {
   "cell_type": "code",
   "execution_count": null,
   "metadata": {},
   "outputs": [],
   "source": [
    "def pred_fal_good_Visualization(dataframe, wrong_phases,columns):\n",
    "    for f in range (0,len(dataframe)):\n",
    "        if wrong_phases[f]=='A':\n",
    "            plt.figure(figsize=(15,3))\n",
    "            plt.title('Failure Sample '+str(f)+' Amplitude Vs Time of '+columns[0])\n",
    "            plt.plot(dataframe[f]['Time'],dataframe[f]['MPI3p1:I A'],color='#E9967A')\n",
    "            plt.xlabel('Time')\n",
    "            plt.ylabel('Current (amp)')\n",
    "        if wrong_phases[f]=='B':\n",
    "            plt.figure(figsize=(15,3))\n",
    "            plt.title('Failure Sample '+str(f)+' Amplitude Vs Time of '+columns[1])\n",
    "            plt.plot(dataframe[f]['Time'],dataframe[f]['MPI3p1:I B'],color='#108A0D')\n",
    "            plt.xlabel('Time')\n",
    "            plt.ylabel('Current (amp)')\n",
    "        if wrong_phases[f]=='C':\n",
    "            plt.figure(figsize=(15,3))\n",
    "            plt.title('Failure Sample '+str(f)+' Amplitude Vs Time of '+columns[2])\n",
    "            plt.plot(dataframe[f]['Time'],dataframe[f]['MPI3p1:I C'],color='#0282B9')\n",
    "            plt.xlabel('Time')\n",
    "            plt.ylabel('Current (amp)')\n",
    "        if wrong_phases[f]=='N':\n",
    "            plt.figure(figsize=(15,3))\n",
    "            plt.title('Failure Sample '+str(f)+' Amplitude Vs Time of '+columns[3])\n",
    "            plt.plot(dataframe[f]['Time'],dataframe[f]['MPI3p1:IN'],color='#C794F2')\n",
    "            plt.xlabel('Time')\n",
    "            plt.ylabel('Current (amp)')"
   ]
  },
  {
   "cell_type": "code",
   "execution_count": null,
   "metadata": {},
   "outputs": [],
   "source": [
    "pred_fal_good_Visualization(data_sets_fal,faulty_phases,col_names)"
   ]
  },
  {
   "cell_type": "code",
   "execution_count": null,
   "metadata": {},
   "outputs": [],
   "source": [
    "predicted_failure_reset=predicted_failure.reset_index(drop=True)"
   ]
  },
  {
   "cell_type": "code",
   "execution_count": null,
   "metadata": {},
   "outputs": [],
   "source": [
    "false_neg=Faulty_pred_ids.iloc[[13,15]]\n",
    "false_neg"
   ]
  },
  {
   "cell_type": "code",
   "execution_count": null,
   "metadata": {},
   "outputs": [],
   "source": [
    "not_failure_paths=[]\n",
    "for index, row in false_neg.iterrows():\n",
    "    dAT_path = getPath(row['Fault ID'], 1)\n",
    "    CFG_Path = getPath(row['Fault ID'], 2)\n",
    "    not_failure_paths.append([CFG_Path, dAT_path])"
   ]
  },
  {
   "cell_type": "code",
   "execution_count": null,
   "metadata": {},
   "outputs": [],
   "source": [
    "not_failure_paths"
   ]
  },
  {
   "cell_type": "code",
   "execution_count": null,
   "metadata": {},
   "outputs": [],
   "source": [
    "not_faulty_phases=[]\n",
    "for index, row in false_neg.iterrows():\n",
    "    not_faulty_phases.append(row['Phase'])"
   ]
  },
  {
   "cell_type": "code",
   "execution_count": null,
   "metadata": {},
   "outputs": [],
   "source": [
    "not_faulty_phases"
   ]
  },
  {
   "cell_type": "code",
   "execution_count": null,
   "metadata": {},
   "outputs": [],
   "source": [
    "false_neg_data_sets=data_frames_creation(not_failure_paths)"
   ]
  },
  {
   "cell_type": "code",
   "execution_count": null,
   "metadata": {},
   "outputs": [],
   "source": [
    "pred_fal_good_Visualization(false_neg_data_sets,not_faulty_phases,col_names)"
   ]
  },
  {
   "cell_type": "code",
   "execution_count": null,
   "metadata": {},
   "outputs": [],
   "source": [
    "predicted_failure_reset.head()"
   ]
  },
  {
   "cell_type": "code",
   "execution_count": null,
   "metadata": {},
   "outputs": [],
   "source": [
    "fal_drop=predicted_failure_reset.iloc[[13,15]]"
   ]
  },
  {
   "cell_type": "code",
   "execution_count": null,
   "metadata": {},
   "outputs": [],
   "source": [
    "fal_drop"
   ]
  },
  {
   "cell_type": "code",
   "execution_count": null,
   "metadata": {},
   "outputs": [],
   "source": [
    "import seaborn as sns\n",
    "plt.figure(figsize = (17,7))\n",
    "sns.scatterplot(predicted_failure.iloc[:,0],predicted_failure.iloc[:,1], color='#024460', s=70, alpha=0.8).set_title('Predicted Failure cluster only based on Ten PC',fontsize=13)\n",
    "sns.scatterplot(fal_drop.iloc[:,0],fal_drop.iloc[:,1], color='#F13E04' ,s=70, alpha=0.8)\n",
    "#plt.legend()\n",
    "plt.legend(labels=[\"True Failure\",\"False Failure\"])\n",
    "plt.xlabel('First Principal Component',fontsize=8)\n",
    "plt.ylabel('2nd Principal Component',fontsize=8)\n",
    "plt.savefig('failure_only_k_means')\n",
    "plt.show()"
   ]
  },
  {
   "cell_type": "markdown",
   "metadata": {},
   "source": [
    "###### `********************************************************************************************************************`"
   ]
  },
  {
   "cell_type": "markdown",
   "metadata": {},
   "source": [
    "## Predicted Good Verification"
   ]
  },
  {
   "cell_type": "code",
   "execution_count": null,
   "metadata": {},
   "outputs": [],
   "source": [
    "predicted_good.head()"
   ]
  },
  {
   "cell_type": "code",
   "execution_count": null,
   "metadata": {},
   "outputs": [],
   "source": [
    "predicted_good_index=predicted_good.index\n",
    "predicted_good_index"
   ]
  },
  {
   "cell_type": "code",
   "execution_count": null,
   "metadata": {},
   "outputs": [],
   "source": [
    "len(predicted_good_index)"
   ]
  },
  {
   "cell_type": "code",
   "execution_count": null,
   "metadata": {},
   "outputs": [],
   "source": [
    "#actual_positive=labels_df[labels_df['fault_status']=='good condition']"
   ]
  },
  {
   "cell_type": "code",
   "execution_count": null,
   "metadata": {},
   "outputs": [],
   "source": [
    "#actual_positive.head()"
   ]
  },
  {
   "cell_type": "code",
   "execution_count": null,
   "metadata": {},
   "outputs": [],
   "source": [
    "#actual_positive_index=actual_positive.index"
   ]
  },
  {
   "cell_type": "code",
   "execution_count": null,
   "metadata": {},
   "outputs": [],
   "source": [
    "#len(actual_positive_index)"
   ]
  },
  {
   "cell_type": "code",
   "execution_count": null,
   "metadata": {},
   "outputs": [],
   "source": [
    "#common_positive=list(set(actual_positive_index).intersection(predicted_good_index))"
   ]
  },
  {
   "cell_type": "code",
   "execution_count": null,
   "metadata": {},
   "outputs": [],
   "source": [
    "#common_positive=sorted(common_positive)"
   ]
  },
  {
   "cell_type": "code",
   "execution_count": null,
   "metadata": {},
   "outputs": [],
   "source": [
    "engin_df"
   ]
  },
  {
   "cell_type": "code",
   "execution_count": null,
   "metadata": {},
   "outputs": [],
   "source": [
    "Good_pred_ids=[]\n",
    "for i in predicted_good_index:\n",
    "    Good_pred_ids.append(engin_df.loc[i])\n",
    "Good_pred_ids=pd.DataFrame(Good_pred_ids)"
   ]
  },
  {
   "cell_type": "code",
   "execution_count": null,
   "metadata": {},
   "outputs": [],
   "source": [
    "Good_pred_ids.head()"
   ]
  },
  {
   "cell_type": "code",
   "execution_count": null,
   "metadata": {},
   "outputs": [],
   "source": [
    "pred_good_paths=[]\n",
    "for index, row in Good_pred_ids.iterrows():\n",
    "    dAT_path = getPath(row['Fault ID'], 1)\n",
    "    CFG_Path = getPath(row['Fault ID'], 2)\n",
    "    pred_good_paths.append([CFG_Path, dAT_path])"
   ]
  },
  {
   "cell_type": "code",
   "execution_count": null,
   "metadata": {},
   "outputs": [],
   "source": [
    "pred_good_paths[0]"
   ]
  },
  {
   "cell_type": "code",
   "execution_count": null,
   "metadata": {},
   "outputs": [],
   "source": [
    "pred_good_phases=[]\n",
    "for index, row in Good_pred_ids.iterrows():\n",
    "    pred_good_phases.append(row['Phase'])"
   ]
  },
  {
   "cell_type": "code",
   "execution_count": null,
   "metadata": {},
   "outputs": [],
   "source": [
    "pred_good_data_sets=data_frames_creation(pred_good_paths)"
   ]
  },
  {
   "cell_type": "code",
   "execution_count": null,
   "metadata": {},
   "outputs": [],
   "source": [
    "len(pred_good_data_sets)"
   ]
  },
  {
   "cell_type": "code",
   "execution_count": null,
   "metadata": {},
   "outputs": [],
   "source": [
    "pred_fal_good_Visualization(pred_good_data_sets,pred_good_phases,col_names)"
   ]
  },
  {
   "cell_type": "code",
   "execution_count": null,
   "metadata": {},
   "outputs": [],
   "source": [
    "false_pred_good=[0,22,26,30,37,41,45,49,53,55,60,64,90,91,96,101,106,107,112,118,156,160,164,168,172,176,179,182,185,211,232,236,240,244,248,252,256,257,262,267,272,276,280,284,\n",
    "288,292,310,324,328,329,334,339,341,351,359,367,371,375,379,386,400,404,408,412,413,417,422,427,432,436,440,444,448,470,475,480,485,501,505,509,513,517,522,527,532,536,540,544,545,567,572,577,582,586,590,594,595,620,625,629,634,639,643,647,651,652,671,689,691,696,701,706,710,714,718,719,744,749,754,759,763,767,792,796,801,806,811,815,819,823,824,846,851,856,861,865,893,897,902,907,912,916,920,924,946,951,956,961,965,984,989,994,999,1003,1007,1008,1030,1035,1040,1045,1049,1050,1072,1077,1082,1087,1091,1095,1099,1103,1122,1123,1124,1126,1127,1128,1130,1131,1132,1134,1135,1136,1138,1139,1140,1142,1143,1144,1146,1147,1148,1150,1151,1152,1154,1155,1156,1158,1159,1160,1162,1163,1164,1166,1167,1168,1170,1171,1172,1174,1175,1176,1178,1179,1180,1182,1183,1184,1186,1187,1188,1190,1191,1192,1194,1195,1196,1198,1199,1200,1202,1203,1204,1206,1207,1208,1210,1211,1212,1214,1215,1216,1218,1219,1220\n",
    "]"
   ]
  },
  {
   "cell_type": "code",
   "execution_count": null,
   "metadata": {},
   "outputs": [],
   "source": [
    "len(false_pred_good)"
   ]
  },
  {
   "cell_type": "code",
   "execution_count": null,
   "metadata": {},
   "outputs": [],
   "source": [
    "predicted_good_reset=predicted_good.reset_index(drop=True)"
   ]
  },
  {
   "cell_type": "code",
   "execution_count": null,
   "metadata": {},
   "outputs": [],
   "source": [
    "predicted_good_reset.head()"
   ]
  },
  {
   "cell_type": "code",
   "execution_count": null,
   "metadata": {},
   "outputs": [],
   "source": [
    "predicted_good_reset"
   ]
  },
  {
   "cell_type": "code",
   "execution_count": null,
   "metadata": {},
   "outputs": [],
   "source": [
    "false_pred_good_df=predicted_good_reset.iloc[false_pred_good]"
   ]
  },
  {
   "cell_type": "code",
   "execution_count": null,
   "metadata": {},
   "outputs": [],
   "source": [
    "false_pred_good_df"
   ]
  },
  {
   "cell_type": "code",
   "execution_count": null,
   "metadata": {},
   "outputs": [],
   "source": [
    "import seaborn as sns\n",
    "plt.figure(figsize = (17,7))\n",
    "sns.scatterplot(predicted_good.iloc[:,0],predicted_good.iloc[:,1], hue=predicted_good['pca_clusters'], palette='viridis', s=70, alpha=0.8).set_title(' Only Predicted Good cluster based on Ten PC',fontsize=13)\n",
    "plt.legend(labels=['Predicted Good Cluster Only (Assumption)'],loc='upper left')\n",
    "plt.xlabel('First Principal Component',fontsize=8)\n",
    "plt.ylabel('2nd Principal Component',fontsize=8)\n",
    "#plt.savefig('Cluster_pCA_1_and_3')\n",
    "plt.show()"
   ]
  },
  {
   "cell_type": "code",
   "execution_count": null,
   "metadata": {},
   "outputs": [],
   "source": [
    "import seaborn as sns\n",
    "plt.figure(figsize = (17,6))\n",
    "sns.scatterplot(predicted_good.iloc[:,0],predicted_good.iloc[:,1],color='#7EF104', s=70, alpha=0.8).set_title(' Predicted Good cluster only based on K-Means',fontsize=13)\n",
    "sns.scatterplot(false_pred_good_df.iloc[:,0],false_pred_good_df.iloc[:,1],color='#939276',  s=70, alpha=0.8)\n",
    "#plt.legend()\n",
    "plt.xlabel('First Principal Component',fontsize=8)\n",
    "plt.ylabel('2nd Principal Component',fontsize=8)\n",
    "plt.legend(labels=[\"True Positive\",\"False Positive\"])\n",
    "plt.savefig('good_pred_k_1')\n",
    "plt.show()"
   ]
  },
  {
   "cell_type": "code",
   "execution_count": null,
   "metadata": {},
   "outputs": [],
   "source": [
    "import seaborn as sns\n",
    "plt.figure(figsize = (17,6))\n",
    "sns.scatterplot(predicted_failure.iloc[:,0],predicted_failure.iloc[:,1], color='#024460', s=70, alpha=0.8)\n",
    "sns.scatterplot(fal_drop.iloc[:,0],fal_drop.iloc[:,1], color='#F13E04' ,s=70, alpha=0.8)\n",
    "sns.scatterplot(predicted_good.iloc[:,0],predicted_good.iloc[:,1],color='#7EF104', s=70, alpha=0.8)\n",
    "sns.scatterplot(false_pred_good_df.iloc[:,0],false_pred_good_df.iloc[:,1],color='#939276',  s=70, alpha=0.8)\n",
    "plt.legend(labels=[\"True Failure\",\"False Failure\",'True Positive', 'False Positive'])\n",
    "plt.xlabel('First PCA')\n",
    "plt.ylabel('2nd PCA')\n",
    "plt.title('Distance-based clustering model results (K-means)')\n",
    "plt.savefig('k_means_final')\n",
    "plt.show()"
   ]
  },
  {
   "cell_type": "markdown",
   "metadata": {},
   "source": [
    "###### `********************************************************************************************************************`"
   ]
  },
  {
   "cell_type": "markdown",
   "metadata": {},
   "source": [
    "### Experiment"
   ]
  },
  {
   "cell_type": "code",
   "execution_count": null,
   "metadata": {},
   "outputs": [],
   "source": [
    "temp_experiment=[]\n",
    "for i in false_pred_good: \n",
    "    #print(i)\n",
    "    temp_experiment.append(pred_good_data_sets[i])"
   ]
  },
  {
   "cell_type": "code",
   "execution_count": null,
   "metadata": {},
   "outputs": [],
   "source": [
    "len(temp_experiment)"
   ]
  },
  {
   "cell_type": "code",
   "execution_count": null,
   "metadata": {},
   "outputs": [],
   "source": [
    "phase_experiment=[]\n",
    "for i in false_pred_good:\n",
    "    phase_experiment.append(pred_good_phases[i])"
   ]
  },
  {
   "cell_type": "code",
   "execution_count": null,
   "metadata": {},
   "outputs": [],
   "source": [
    "phase_experiment"
   ]
  },
  {
   "cell_type": "code",
   "execution_count": null,
   "metadata": {},
   "outputs": [],
   "source": [
    "pred_fal_good_Visualization(temp_experiment,phase_experiment,col_names)"
   ]
  },
  {
   "cell_type": "markdown",
   "metadata": {},
   "source": [
    "###### `********************************************************************************************************************`"
   ]
  },
  {
   "cell_type": "markdown",
   "metadata": {},
   "source": [
    "### k-Means Evaluation"
   ]
  },
  {
   "cell_type": "code",
   "execution_count": null,
   "metadata": {},
   "outputs": [],
   "source": [
    "pred_failure_K_means=150\n",
    "false_failure_K_means=2\n",
    "pred_good_K_means=1222\n",
    "incor_good_preds_K_means=245"
   ]
  },
  {
   "cell_type": "code",
   "execution_count": null,
   "metadata": {},
   "outputs": [],
   "source": [
    "True_negative_Kmeans=150+245-2\n",
    "True_negative_Kmeans"
   ]
  },
  {
   "cell_type": "code",
   "execution_count": null,
   "metadata": {},
   "outputs": [],
   "source": [
    "True_positive_Kmeans=1222-245+2\n",
    "True_positive_Kmeans"
   ]
  },
  {
   "cell_type": "code",
   "execution_count": null,
   "metadata": {},
   "outputs": [],
   "source": [
    "Precision_K_means_good=(True_positive_Kmeans)/(True_positive_Kmeans+incor_good_preds_K_means)\n",
    "Precision_K_means_good"
   ]
  },
  {
   "cell_type": "code",
   "execution_count": null,
   "metadata": {},
   "outputs": [],
   "source": [
    "recall_K_means_good=(True_positive_Kmeans)/(True_positive_Kmeans+false_failure_K_means)\n",
    "recall_K_means_good"
   ]
  },
  {
   "cell_type": "code",
   "execution_count": null,
   "metadata": {},
   "outputs": [],
   "source": [
    "Precision_K_means_failure=(True_negative_Kmeans)/(True_negative_Kmeans+incor_good_preds_K_means)\n",
    "Precision_K_means_failure"
   ]
  },
  {
   "cell_type": "code",
   "execution_count": null,
   "metadata": {},
   "outputs": [],
   "source": [
    "recall_K_means_failure=(True_negative_Kmeans)/(True_negative_Kmeans+false_failure_K_means)\n",
    "recall_K_means_failure"
   ]
  },
  {
   "cell_type": "code",
   "execution_count": null,
   "metadata": {},
   "outputs": [],
   "source": [
    "F1_K_means_good=(2*Precision_K_means_good*recall_K_means_good)/(Precision_K_means_good+recall_K_means_good)\n",
    "F1_K_means_good"
   ]
  },
  {
   "cell_type": "code",
   "execution_count": null,
   "metadata": {},
   "outputs": [],
   "source": [
    "F1_K_means_failure=(2*Precision_K_means_failure*recall_K_means_failure)/(Precision_K_means_failure+recall_K_means_failure)\n",
    "F1_K_means_failure"
   ]
  },
  {
   "cell_type": "code",
   "execution_count": null,
   "metadata": {},
   "outputs": [],
   "source": [
    "Accuracy_K_Means=(True_positive_Kmeans+True_negative_Kmeans)/(True_positive_Kmeans+false_failure_K_means+True_negative_Kmeans+incor_good_preds_K_means)\n",
    "Accuracy_K_Means"
   ]
  },
  {
   "cell_type": "code",
   "execution_count": null,
   "metadata": {},
   "outputs": [],
   "source": [
    "#TRUE NEGATIVE RATE\n",
    "Specificity_K_means=(True_negative_Kmeans)/(True_negative_Kmeans+incor_good_preds_K_means)\n",
    "Specificity_K_means"
   ]
  },
  {
   "cell_type": "code",
   "execution_count": null,
   "metadata": {},
   "outputs": [],
   "source": [
    "# #TRUE POSITIVE RATE\n",
    "# TRUE_POITIVE/TRUE POSITIVE+FALSENEGATIVE"
   ]
  },
  {
   "cell_type": "code",
   "execution_count": null,
   "metadata": {},
   "outputs": [],
   "source": [
    "Evaluation_df_K_means=pd.DataFrame({\n",
    "    'Precision':[Precision_K_means_good,Precision_K_means_failure],\n",
    "    'Recall': [recall_K_means_good,recall_K_means_failure],\n",
    "    'F1-Score':[F1_K_means_good,F1_K_means_failure],\n",
    "},\n",
    "index=['Good Condition (K-Means)','Failure (K-Means)'])"
   ]
  },
  {
   "cell_type": "code",
   "execution_count": null,
   "metadata": {},
   "outputs": [],
   "source": [
    "Evaluation_df_K_means"
   ]
  },
  {
   "cell_type": "code",
   "execution_count": null,
   "metadata": {},
   "outputs": [],
   "source": []
  },
  {
   "cell_type": "markdown",
   "metadata": {},
   "source": [
    "#### Experiment"
   ]
  },
  {
   "cell_type": "code",
   "execution_count": null,
   "metadata": {},
   "outputs": [],
   "source": [
    "for_corr=spectral_eng_df"
   ]
  },
  {
   "cell_type": "code",
   "execution_count": null,
   "metadata": {},
   "outputs": [],
   "source": [
    "corr_matrix=np.triu(for_corr.corr())\n",
    "corr_matrix"
   ]
  },
  {
   "cell_type": "code",
   "execution_count": null,
   "metadata": {},
   "outputs": [],
   "source": [
    "def correlation(dataset, threshold):\n",
    "    col_corr = set()  # Set of all the names of correlated columns\n",
    "    corr_matrix = dataset.corr()\n",
    "    for i in range(len(corr_matrix.columns)):\n",
    "        for j in range(i):\n",
    "            if abs(corr_matrix.iloc[i, j]) > threshold: # we are interested in absolute coeff value\n",
    "                colname = corr_matrix.columns[i]  # getting the name of column\n",
    "                col_corr.add(colname)\n",
    "    return col_corr"
   ]
  },
  {
   "cell_type": "code",
   "execution_count": null,
   "metadata": {},
   "outputs": [],
   "source": [
    "corr_features = correlation(for_corr, 0.8)\n",
    "len(set(corr_features))"
   ]
  },
  {
   "cell_type": "code",
   "execution_count": null,
   "metadata": {},
   "outputs": [],
   "source": [
    "corr_features=list(corr_features)\n",
    "corr_features"
   ]
  },
  {
   "cell_type": "code",
   "execution_count": null,
   "metadata": {},
   "outputs": [],
   "source": [
    "correlated_removed=for_corr.drop(corr_features,axis=1)"
   ]
  },
  {
   "cell_type": "code",
   "execution_count": null,
   "metadata": {},
   "outputs": [],
   "source": [
    "correlated_removed.head()"
   ]
  },
  {
   "cell_type": "code",
   "execution_count": null,
   "metadata": {},
   "outputs": [],
   "source": [
    "correlated_removed_cols=correlated_removed.columns\n",
    "correlated_removed_cols"
   ]
  },
  {
   "cell_type": "code",
   "execution_count": null,
   "metadata": {},
   "outputs": [],
   "source": [
    "#### Standard Scaling\n",
    "from sklearn.preprocessing import StandardScaler\n",
    "standard_scaler_corr=StandardScaler()\n",
    "SS_Norm_for_corr=pd.DataFrame(standard_scaler_corr.fit_transform(correlated_removed))\n",
    "SS_Norm_for_corr.columns=correlated_removed_cols"
   ]
  },
  {
   "cell_type": "code",
   "execution_count": null,
   "metadata": {},
   "outputs": [],
   "source": [
    "SS_Norm_for_corr.head()"
   ]
  },
  {
   "cell_type": "code",
   "execution_count": null,
   "metadata": {},
   "outputs": [],
   "source": [
    "np.random.seed(40)\n",
    "from sklearn.cluster import KMeans\n",
    "\n",
    "kmeans_models_s_corr = [KMeans(n_clusters=k).fit(SS_Norm_for_corr) for k in range (1, 10)]\n",
    "innertia_s_corr = [model.inertia_ for model in kmeans_models_s_corr]\n",
    "\n",
    "plt.plot(range(1, 10), innertia_s_corr,'-o',color='#546546')\n",
    "plt.title('Elbow method')\n",
    "plt.xlabel('Number of Clusters')\n",
    "plt.ylabel('Model Inertia')\n",
    "plt.show()\n",
    "#plt.savefig('Elbow_1.png');"
   ]
  },
  {
   "cell_type": "code",
   "execution_count": null,
   "metadata": {},
   "outputs": [],
   "source": [
    "np.random.seed(40)\n",
    "from sklearn.metrics import silhouette_score\n",
    "\n",
    "silhoutte_scores_s_2 = [silhouette_score(SS_Norm_for_corr, model.labels_) for model in kmeans_models_s_corr[1:10]]\n",
    "plt.plot(range(2,10), silhoutte_scores_s_2, \"bo-\",color='#857376')\n",
    "plt.xticks([2, 3, 4, 5,6,7,8,9])\n",
    "plt.title('Silhouette scores vs Number of clusters')\n",
    "plt.xlabel('Number of clusters')\n",
    "plt.ylabel('Silhoutte score')\n",
    "#plt.savefig('Silhoutte_score.png')\n",
    "plt.show()"
   ]
  },
  {
   "cell_type": "code",
   "execution_count": null,
   "metadata": {},
   "outputs": [],
   "source": [
    "np.random.seed(100)\n",
    "from sklearn.metrics import silhouette_score\n",
    "\n",
    "clustering_spectral_2 = KMeans(n_clusters=2)\n",
    "clustering_spectral_2.fit(SS_Norm_for_corr)\n",
    "\n",
    "print('Silhoutte score of K-Mean clustering is ' + str(silhouette_score(SS_Norm_for_corr, clustering_spectral_2.labels_)))"
   ]
  },
  {
   "cell_type": "code",
   "execution_count": null,
   "metadata": {},
   "outputs": [],
   "source": [
    "spectral_labels_2=clustering_spectral_2.labels_\n",
    "spectral_labels_2"
   ]
  },
  {
   "cell_type": "code",
   "execution_count": null,
   "metadata": {},
   "outputs": [],
   "source": [
    "spectral_final_2 = pd.concat([SS_Norm_for_corr, pd.DataFrame({'pca_clusters':spectral_labels_2})], axis=1)\n",
    "spectral_final_2.head()"
   ]
  },
  {
   "cell_type": "code",
   "execution_count": null,
   "metadata": {},
   "outputs": [],
   "source": [
    "##### Clustering with Features Based on Correlation\n",
    "#### When Cluster Number are 4\n",
    "import seaborn as sns\n",
    "plt.figure(figsize = (17,7))\n",
    "sns.scatterplot(spectral_final_2.iloc[:,5],spectral_final_2.iloc[:,7], hue=spectral_final_2['pca_clusters'], palette='viridis', s=70, alpha=0.8).set_title('Distribution of cluster based on Spectral Domain Features (correlation Based)',fontsize=13)\n",
    "plt.legend()\n",
    "#plt.savefig('Cluster_pCA_1_and_3')\n",
    "plt.show()"
   ]
  },
  {
   "cell_type": "markdown",
   "metadata": {},
   "source": [
    "`Note` Poor Results based on correlation Method"
   ]
  },
  {
   "cell_type": "code",
   "execution_count": null,
   "metadata": {},
   "outputs": [],
   "source": []
  },
  {
   "cell_type": "code",
   "execution_count": null,
   "metadata": {},
   "outputs": [],
   "source": []
  },
  {
   "cell_type": "code",
   "execution_count": null,
   "metadata": {},
   "outputs": [],
   "source": []
  },
  {
   "cell_type": "code",
   "execution_count": null,
   "metadata": {},
   "outputs": [],
   "source": []
  }
 ],
 "metadata": {
  "kernelspec": {
   "display_name": "Python 3",
   "language": "python",
   "name": "python3"
  },
  "language_info": {
   "codemirror_mode": {
    "name": "ipython",
    "version": 3
   },
   "file_extension": ".py",
   "mimetype": "text/x-python",
   "name": "python",
   "nbconvert_exporter": "python",
   "pygments_lexer": "ipython3",
   "version": "3.8.5"
  }
 },
 "nbformat": 4,
 "nbformat_minor": 4
}
